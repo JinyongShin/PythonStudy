{
  "nbformat": 4,
  "nbformat_minor": 0,
  "metadata": {
    "colab": {
      "name": "01_DataLoader_and_Customizing.ipynb",
      "provenance": [],
      "authorship_tag": "ABX9TyMZj9meKJGTxW5N9NW3d297",
      "include_colab_link": true
    },
    "kernelspec": {
      "name": "python3",
      "display_name": "Python 3"
    },
    "language_info": {
      "name": "python"
    },
    "widgets": {
      "application/vnd.jupyter.widget-state+json": {
        "e79ead2648dc415db4735f14311a4d2e": {
          "model_module": "@jupyter-widgets/controls",
          "model_name": "HBoxModel",
          "model_module_version": "1.5.0",
          "state": {
            "_view_name": "HBoxView",
            "_dom_classes": [],
            "_model_name": "HBoxModel",
            "_view_module": "@jupyter-widgets/controls",
            "_model_module_version": "1.5.0",
            "_view_count": null,
            "_view_module_version": "1.5.0",
            "box_style": "",
            "layout": "IPY_MODEL_1221e3245c9f40f48f5b284d9854fbcb",
            "_model_module": "@jupyter-widgets/controls",
            "children": [
              "IPY_MODEL_d08d775dcf064dcfa508d883e91af07a",
              "IPY_MODEL_3d5b39a568244908a337ee340391368d",
              "IPY_MODEL_2577eef9c7f74fdeb084f46578cfdea9"
            ]
          }
        },
        "1221e3245c9f40f48f5b284d9854fbcb": {
          "model_module": "@jupyter-widgets/base",
          "model_name": "LayoutModel",
          "model_module_version": "1.2.0",
          "state": {
            "_view_name": "LayoutView",
            "grid_template_rows": null,
            "right": null,
            "justify_content": null,
            "_view_module": "@jupyter-widgets/base",
            "overflow": null,
            "_model_module_version": "1.2.0",
            "_view_count": null,
            "flex_flow": null,
            "width": null,
            "min_width": null,
            "border": null,
            "align_items": null,
            "bottom": null,
            "_model_module": "@jupyter-widgets/base",
            "top": null,
            "grid_column": null,
            "overflow_y": null,
            "overflow_x": null,
            "grid_auto_flow": null,
            "grid_area": null,
            "grid_template_columns": null,
            "flex": null,
            "_model_name": "LayoutModel",
            "justify_items": null,
            "grid_row": null,
            "max_height": null,
            "align_content": null,
            "visibility": null,
            "align_self": null,
            "height": null,
            "min_height": null,
            "padding": null,
            "grid_auto_rows": null,
            "grid_gap": null,
            "max_width": null,
            "order": null,
            "_view_module_version": "1.2.0",
            "grid_template_areas": null,
            "object_position": null,
            "object_fit": null,
            "grid_auto_columns": null,
            "margin": null,
            "display": null,
            "left": null
          }
        },
        "d08d775dcf064dcfa508d883e91af07a": {
          "model_module": "@jupyter-widgets/controls",
          "model_name": "HTMLModel",
          "model_module_version": "1.5.0",
          "state": {
            "_view_name": "HTMLView",
            "style": "IPY_MODEL_22839b2a7bbf40b29a75f7d259d4db61",
            "_dom_classes": [],
            "description": "",
            "_model_name": "HTMLModel",
            "placeholder": "​",
            "_view_module": "@jupyter-widgets/controls",
            "_model_module_version": "1.5.0",
            "value": "",
            "_view_count": null,
            "_view_module_version": "1.5.0",
            "description_tooltip": null,
            "_model_module": "@jupyter-widgets/controls",
            "layout": "IPY_MODEL_9728c619ffdf40f59b0c13625a3a1955"
          }
        },
        "3d5b39a568244908a337ee340391368d": {
          "model_module": "@jupyter-widgets/controls",
          "model_name": "FloatProgressModel",
          "model_module_version": "1.5.0",
          "state": {
            "_view_name": "ProgressView",
            "style": "IPY_MODEL_46bdfbe9f04a48799343847651653af7",
            "_dom_classes": [],
            "description": "",
            "_model_name": "FloatProgressModel",
            "bar_style": "success",
            "max": 170498071,
            "_view_module": "@jupyter-widgets/controls",
            "_model_module_version": "1.5.0",
            "value": 170498071,
            "_view_count": null,
            "_view_module_version": "1.5.0",
            "orientation": "horizontal",
            "min": 0,
            "description_tooltip": null,
            "_model_module": "@jupyter-widgets/controls",
            "layout": "IPY_MODEL_18a649ec123549519ad98d7cd1a8ea91"
          }
        },
        "2577eef9c7f74fdeb084f46578cfdea9": {
          "model_module": "@jupyter-widgets/controls",
          "model_name": "HTMLModel",
          "model_module_version": "1.5.0",
          "state": {
            "_view_name": "HTMLView",
            "style": "IPY_MODEL_811162055f354c70999d106e44a7c729",
            "_dom_classes": [],
            "description": "",
            "_model_name": "HTMLModel",
            "placeholder": "​",
            "_view_module": "@jupyter-widgets/controls",
            "_model_module_version": "1.5.0",
            "value": " 170499072/? [00:03&lt;00:00, 46779605.46it/s]",
            "_view_count": null,
            "_view_module_version": "1.5.0",
            "description_tooltip": null,
            "_model_module": "@jupyter-widgets/controls",
            "layout": "IPY_MODEL_320fcaa2f12b4c50af4afdc5c60e38df"
          }
        },
        "22839b2a7bbf40b29a75f7d259d4db61": {
          "model_module": "@jupyter-widgets/controls",
          "model_name": "DescriptionStyleModel",
          "model_module_version": "1.5.0",
          "state": {
            "_view_name": "StyleView",
            "_model_name": "DescriptionStyleModel",
            "description_width": "",
            "_view_module": "@jupyter-widgets/base",
            "_model_module_version": "1.5.0",
            "_view_count": null,
            "_view_module_version": "1.2.0",
            "_model_module": "@jupyter-widgets/controls"
          }
        },
        "9728c619ffdf40f59b0c13625a3a1955": {
          "model_module": "@jupyter-widgets/base",
          "model_name": "LayoutModel",
          "model_module_version": "1.2.0",
          "state": {
            "_view_name": "LayoutView",
            "grid_template_rows": null,
            "right": null,
            "justify_content": null,
            "_view_module": "@jupyter-widgets/base",
            "overflow": null,
            "_model_module_version": "1.2.0",
            "_view_count": null,
            "flex_flow": null,
            "width": null,
            "min_width": null,
            "border": null,
            "align_items": null,
            "bottom": null,
            "_model_module": "@jupyter-widgets/base",
            "top": null,
            "grid_column": null,
            "overflow_y": null,
            "overflow_x": null,
            "grid_auto_flow": null,
            "grid_area": null,
            "grid_template_columns": null,
            "flex": null,
            "_model_name": "LayoutModel",
            "justify_items": null,
            "grid_row": null,
            "max_height": null,
            "align_content": null,
            "visibility": null,
            "align_self": null,
            "height": null,
            "min_height": null,
            "padding": null,
            "grid_auto_rows": null,
            "grid_gap": null,
            "max_width": null,
            "order": null,
            "_view_module_version": "1.2.0",
            "grid_template_areas": null,
            "object_position": null,
            "object_fit": null,
            "grid_auto_columns": null,
            "margin": null,
            "display": null,
            "left": null
          }
        },
        "46bdfbe9f04a48799343847651653af7": {
          "model_module": "@jupyter-widgets/controls",
          "model_name": "ProgressStyleModel",
          "model_module_version": "1.5.0",
          "state": {
            "_view_name": "StyleView",
            "_model_name": "ProgressStyleModel",
            "description_width": "",
            "_view_module": "@jupyter-widgets/base",
            "_model_module_version": "1.5.0",
            "_view_count": null,
            "_view_module_version": "1.2.0",
            "bar_color": null,
            "_model_module": "@jupyter-widgets/controls"
          }
        },
        "18a649ec123549519ad98d7cd1a8ea91": {
          "model_module": "@jupyter-widgets/base",
          "model_name": "LayoutModel",
          "model_module_version": "1.2.0",
          "state": {
            "_view_name": "LayoutView",
            "grid_template_rows": null,
            "right": null,
            "justify_content": null,
            "_view_module": "@jupyter-widgets/base",
            "overflow": null,
            "_model_module_version": "1.2.0",
            "_view_count": null,
            "flex_flow": null,
            "width": null,
            "min_width": null,
            "border": null,
            "align_items": null,
            "bottom": null,
            "_model_module": "@jupyter-widgets/base",
            "top": null,
            "grid_column": null,
            "overflow_y": null,
            "overflow_x": null,
            "grid_auto_flow": null,
            "grid_area": null,
            "grid_template_columns": null,
            "flex": null,
            "_model_name": "LayoutModel",
            "justify_items": null,
            "grid_row": null,
            "max_height": null,
            "align_content": null,
            "visibility": null,
            "align_self": null,
            "height": null,
            "min_height": null,
            "padding": null,
            "grid_auto_rows": null,
            "grid_gap": null,
            "max_width": null,
            "order": null,
            "_view_module_version": "1.2.0",
            "grid_template_areas": null,
            "object_position": null,
            "object_fit": null,
            "grid_auto_columns": null,
            "margin": null,
            "display": null,
            "left": null
          }
        },
        "811162055f354c70999d106e44a7c729": {
          "model_module": "@jupyter-widgets/controls",
          "model_name": "DescriptionStyleModel",
          "model_module_version": "1.5.0",
          "state": {
            "_view_name": "StyleView",
            "_model_name": "DescriptionStyleModel",
            "description_width": "",
            "_view_module": "@jupyter-widgets/base",
            "_model_module_version": "1.5.0",
            "_view_count": null,
            "_view_module_version": "1.2.0",
            "_model_module": "@jupyter-widgets/controls"
          }
        },
        "320fcaa2f12b4c50af4afdc5c60e38df": {
          "model_module": "@jupyter-widgets/base",
          "model_name": "LayoutModel",
          "model_module_version": "1.2.0",
          "state": {
            "_view_name": "LayoutView",
            "grid_template_rows": null,
            "right": null,
            "justify_content": null,
            "_view_module": "@jupyter-widgets/base",
            "overflow": null,
            "_model_module_version": "1.2.0",
            "_view_count": null,
            "flex_flow": null,
            "width": null,
            "min_width": null,
            "border": null,
            "align_items": null,
            "bottom": null,
            "_model_module": "@jupyter-widgets/base",
            "top": null,
            "grid_column": null,
            "overflow_y": null,
            "overflow_x": null,
            "grid_auto_flow": null,
            "grid_area": null,
            "grid_template_columns": null,
            "flex": null,
            "_model_name": "LayoutModel",
            "justify_items": null,
            "grid_row": null,
            "max_height": null,
            "align_content": null,
            "visibility": null,
            "align_self": null,
            "height": null,
            "min_height": null,
            "padding": null,
            "grid_auto_rows": null,
            "grid_gap": null,
            "max_width": null,
            "order": null,
            "_view_module_version": "1.2.0",
            "grid_template_areas": null,
            "object_position": null,
            "object_fit": null,
            "grid_auto_columns": null,
            "margin": null,
            "display": null,
            "left": null
          }
        }
      }
    }
  },
  "cells": [
    {
      "cell_type": "markdown",
      "metadata": {
        "id": "view-in-github",
        "colab_type": "text"
      },
      "source": [
        "<a href=\"https://colab.research.google.com/github/JinyongShin/PythonStudy/blob/master/Pytorch/01_DataLoader_and_Customizing.ipynb\" target=\"_parent\"><img src=\"https://colab.research.google.com/assets/colab-badge.svg\" alt=\"Open In Colab\"/></a>"
      ]
    },
    {
      "cell_type": "code",
      "execution_count": 1,
      "metadata": {
        "id": "IJ50DokdyibW"
      },
      "outputs": [],
      "source": [
        "import torch\n",
        "import torchvision\n",
        "import torchvision.transforms as tr\n",
        "from torch.utils.data import DataLoader, Dataset\n",
        "import numpy as np"
      ]
    },
    {
      "cell_type": "markdown",
      "source": [
        "파이토치 제공 데이터 사용"
      ],
      "metadata": {
        "id": "nnTjL2QIjZag"
      }
    },
    {
      "cell_type": "code",
      "source": [
        "transf = tr.Compose([tr.Resize(8),tr.ToTensor()])\n",
        "\n",
        "###   파이토치 홈페이지에 전처리에 대한 내용이 있다고합니다. ###\n",
        "###   이 코드는 8by8 텐서로 변환하는 전처리 코드입니다.      ###\n",
        "###   PIL Images 에만 적용 가능하다고 합니다. ㅎㅎ           ###"
      ],
      "metadata": {
        "id": "LE8_3iZtzojp"
      },
      "execution_count": 2,
      "outputs": []
    },
    {
      "cell_type": "code",
      "source": [
        "trainset = torchvision.datasets.CIFAR10(root='./',train=True,download=True,transform=transf)\n",
        "testset = torchvision.datasets.CIFAR10(root='./',train=False,download=True,transform=transf)"
      ],
      "metadata": {
        "colab": {
          "base_uri": "https://localhost:8080/",
          "height": 104,
          "referenced_widgets": [
            "e79ead2648dc415db4735f14311a4d2e",
            "1221e3245c9f40f48f5b284d9854fbcb",
            "d08d775dcf064dcfa508d883e91af07a",
            "3d5b39a568244908a337ee340391368d",
            "2577eef9c7f74fdeb084f46578cfdea9",
            "22839b2a7bbf40b29a75f7d259d4db61",
            "9728c619ffdf40f59b0c13625a3a1955",
            "46bdfbe9f04a48799343847651653af7",
            "18a649ec123549519ad98d7cd1a8ea91",
            "811162055f354c70999d106e44a7c729",
            "320fcaa2f12b4c50af4afdc5c60e38df"
          ]
        },
        "id": "4cnfFELpz3-g",
        "outputId": "5ff982b1-303b-4165-8344-cdac22b7d7a9"
      },
      "execution_count": 3,
      "outputs": [
        {
          "output_type": "stream",
          "name": "stdout",
          "text": [
            "Downloading https://www.cs.toronto.edu/~kriz/cifar-10-python.tar.gz to ./cifar-10-python.tar.gz\n"
          ]
        },
        {
          "output_type": "display_data",
          "data": {
            "application/vnd.jupyter.widget-view+json": {
              "model_id": "e79ead2648dc415db4735f14311a4d2e",
              "version_minor": 0,
              "version_major": 2
            },
            "text/plain": [
              "  0%|          | 0/170498071 [00:00<?, ?it/s]"
            ]
          },
          "metadata": {}
        },
        {
          "output_type": "stream",
          "name": "stdout",
          "text": [
            "Extracting ./cifar-10-python.tar.gz to ./\n",
            "Files already downloaded and verified\n"
          ]
        }
      ]
    },
    {
      "cell_type": "code",
      "source": [
        "trainset[0][0].size()"
      ],
      "metadata": {
        "colab": {
          "base_uri": "https://localhost:8080/"
        },
        "id": "2GX3V6b20L9o",
        "outputId": "9bd0f044-b2a8-49e8-9e23-fa23874854df"
      },
      "execution_count": 4,
      "outputs": [
        {
          "output_type": "execute_result",
          "data": {
            "text/plain": [
              "torch.Size([3, 8, 8])"
            ]
          },
          "metadata": {},
          "execution_count": 4
        }
      ]
    },
    {
      "cell_type": "code",
      "source": [
        "trainloader = DataLoader(trainset,batch_size=50,shuffle=True,num_workers=2)\n",
        "testloader = DataLoader(testset,batch_size=50,shuffle=True,num_workers=2)"
      ],
      "metadata": {
        "id": "zQ3IAYVi0RLO"
      },
      "execution_count": 5,
      "outputs": []
    },
    {
      "cell_type": "code",
      "source": [
        "len(trainloader)"
      ],
      "metadata": {
        "colab": {
          "base_uri": "https://localhost:8080/"
        },
        "id": "1D47hNwH0gPA",
        "outputId": "d4d992c2-891c-4af9-9ad7-67d88652ac8e"
      },
      "execution_count": 6,
      "outputs": [
        {
          "output_type": "execute_result",
          "data": {
            "text/plain": [
              "1000"
            ]
          },
          "metadata": {},
          "execution_count": 6
        }
      ]
    },
    {
      "cell_type": "code",
      "source": [
        "dataiter = iter(trainloader)\n",
        "images, labels = dataiter.next()"
      ],
      "metadata": {
        "id": "WICkr39d0uTf"
      },
      "execution_count": 7,
      "outputs": []
    },
    {
      "cell_type": "code",
      "source": [
        "images.size()"
      ],
      "metadata": {
        "colab": {
          "base_uri": "https://localhost:8080/"
        },
        "id": "eg-6W_5b01UO",
        "outputId": "9046d62d-0d6f-4021-f211-67c6853a5f66"
      },
      "execution_count": 8,
      "outputs": [
        {
          "output_type": "execute_result",
          "data": {
            "text/plain": [
              "torch.Size([50, 3, 8, 8])"
            ]
          },
          "metadata": {},
          "execution_count": 8
        }
      ]
    },
    {
      "cell_type": "markdown",
      "source": [
        "개인 데이터 사용"
      ],
      "metadata": {
        "id": "cRdaBV1Zi3P3"
      }
    },
    {
      "cell_type": "code",
      "source": [
        "train_images = np.random.randint(256,size=(20,32,32,3))\n",
        "train_labels = np.random.randint(2,size=(20,1))\n",
        "\n",
        "print(train_images.shape,train_labels.shape)"
      ],
      "metadata": {
        "id": "s4w1_FiL1CG2",
        "colab": {
          "base_uri": "https://localhost:8080/"
        },
        "outputId": "4c6b71d9-bb53-4973-abd1-eadb4b847747"
      },
      "execution_count": 15,
      "outputs": [
        {
          "output_type": "stream",
          "name": "stdout",
          "text": [
            "(20, 32, 32, 3) (20, 1)\n"
          ]
        }
      ]
    },
    {
      "cell_type": "code",
      "source": [
        "class TensorData(Dataset):\n",
        "\n",
        "    def __init__(self, x_data, y_data):\n",
        "        self.x_data = torch.FloatTensor(x_data)\n",
        "        self.x_data = self.x_data.permute(0,3,1,2) #이미지 수 , 채널 수, 이미지 너비, 높이\n",
        "        self.y_data = torch.LongTensor(y_data)\n",
        "        self.len = self.y_data.shape[0]\n",
        "\n",
        "    def __getitem__(self, index):\n",
        "        return self.x_data[index], self.y_data[index]\n",
        "\n",
        "    def __len__(self):\n",
        "        return self.len"
      ],
      "metadata": {
        "id": "xZfslYN0jMX0"
      },
      "execution_count": 16,
      "outputs": []
    },
    {
      "cell_type": "code",
      "source": [
        "train_data = TensorData(train_images,train_labels)\n",
        "train_loader = DataLoader(train_data, batch_size = 10, shuffle=True)"
      ],
      "metadata": {
        "id": "wspRxTtqkUto"
      },
      "execution_count": 17,
      "outputs": []
    },
    {
      "cell_type": "code",
      "source": [
        "train_data[0][0].size()"
      ],
      "metadata": {
        "colab": {
          "base_uri": "https://localhost:8080/"
        },
        "id": "h7zVty48llg0",
        "outputId": "056e625d-204e-4b8c-80a0-1d8df57dc68c"
      },
      "execution_count": 18,
      "outputs": [
        {
          "output_type": "execute_result",
          "data": {
            "text/plain": [
              "torch.Size([3, 32, 32])"
            ]
          },
          "metadata": {},
          "execution_count": 18
        }
      ]
    },
    {
      "cell_type": "code",
      "source": [
        "dataiter=iter(train_loader)\n",
        "images,labels = dataiter.next()"
      ],
      "metadata": {
        "id": "sR6RPZOwloTj"
      },
      "execution_count": 20,
      "outputs": []
    },
    {
      "cell_type": "code",
      "source": [
        "images.size()"
      ],
      "metadata": {
        "colab": {
          "base_uri": "https://localhost:8080/"
        },
        "id": "GiiTWTLAlvXr",
        "outputId": "c2cff040-6bc4-4249-8335-0538e6d454e8"
      },
      "execution_count": 22,
      "outputs": [
        {
          "output_type": "execute_result",
          "data": {
            "text/plain": [
              "torch.Size([10, 3, 32, 32])"
            ]
          },
          "metadata": {},
          "execution_count": 22
        }
      ]
    },
    {
      "cell_type": "markdown",
      "source": [
        "# ###from torch.utils.data import Dataset\n",
        "\n",
        "class MyDataset(Dataset):\n",
        "\n",
        "    def __init__(self):\n",
        "\n",
        "    def __getitem__(self):\n",
        "\n",
        "    def __len__(self):\n"
      ],
      "metadata": {
        "id": "MqQistWxnpgQ"
      }
    },
    {
      "cell_type": "code",
      "source": [
        "class MyDataset(Dataset):\n",
        "\n",
        "    def __init__(self, x_data, y_data, transform=None):\n",
        "        self.x_data = x_data\n",
        "        self.y_data = y_data\n",
        "        self.transform = transform\n",
        "        self.len = len(y_data)\n",
        "\n",
        "    def __getitem__(self,index):\n",
        "        sample = self.x_data[index], self.y_data[index]\n",
        "\n",
        "        if self.transform:\n",
        "            sample = self.transform(sample)\n",
        "        \n",
        "        return sample\n",
        "\n",
        "    def __len__(self):\n",
        "        return self.len"
      ],
      "metadata": {
        "id": "FZxkaHLZlyhq"
      },
      "execution_count": 23,
      "outputs": []
    },
    {
      "cell_type": "code",
      "source": [
        "class ToTensor:\n",
        "    def __call__(self,sample):\n",
        "        inputs, labels = sample\n",
        "        inputs = torch.FloatTensor(inputs)\n",
        "        inputs = inputs.permute(2,0,1)\n",
        "        return inputs, torch.LongTensor(labels)"
      ],
      "metadata": {
        "id": "IQDzEgjToUWa"
      },
      "execution_count": 24,
      "outputs": []
    },
    {
      "cell_type": "code",
      "source": [
        "class LinearTensor:\n",
        "    def __init__(self, slope=1, bias=0):\n",
        "        self.slope = slope\n",
        "        self.bias = bias\n",
        "\n",
        "    def __call__(self, sample):\n",
        "        inputs, labels = sample\n",
        "        inputs = self.slope * inputs + self.bias\n",
        "        return inputs, labels"
      ],
      "metadata": {
        "id": "lII1J5EboqJo"
      },
      "execution_count": 25,
      "outputs": []
    },
    {
      "cell_type": "code",
      "source": [
        "trans = tr.Compose([ToTensor(),LinearTensor(2,5)])\n",
        "ds1 = MyDataset(train_images, train_labels, transform=trans)\n",
        "train_loader1 = DataLoader(ds1,batch_size=10, shuffle=True)"
      ],
      "metadata": {
        "id": "JP5nSfIYo-nm"
      },
      "execution_count": 26,
      "outputs": []
    },
    {
      "cell_type": "code",
      "source": [
        "first_data = ds1[0]\n",
        "features, labels = first_data\n",
        "print(type(features),type(labels))"
      ],
      "metadata": {
        "colab": {
          "base_uri": "https://localhost:8080/"
        },
        "id": "aLtlNU44pjCr",
        "outputId": "17086854-a424-4f55-ee4b-037dfbedb779"
      },
      "execution_count": 28,
      "outputs": [
        {
          "output_type": "stream",
          "name": "stdout",
          "text": [
            "<class 'torch.Tensor'> <class 'torch.Tensor'>\n"
          ]
        }
      ]
    },
    {
      "cell_type": "code",
      "source": [
        "dataiter1 = iter(train_loader1)\n",
        "images1, labels1 = dataiter1.next()"
      ],
      "metadata": {
        "id": "ORzACi-xpvCM"
      },
      "execution_count": 29,
      "outputs": []
    },
    {
      "cell_type": "code",
      "source": [
        "images1"
      ],
      "metadata": {
        "colab": {
          "base_uri": "https://localhost:8080/"
        },
        "id": "zIFhywvip5Gj",
        "outputId": "8c00bdcb-6684-41fc-8148-efff440ac36e"
      },
      "execution_count": 30,
      "outputs": [
        {
          "output_type": "execute_result",
          "data": {
            "text/plain": [
              "tensor([[[[489., 233., 227.,  ..., 487.,  81., 121.],\n",
              "          [369., 305., 115.,  ..., 267., 377., 219.],\n",
              "          [ 39.,   5., 103.,  ...,  77., 489., 213.],\n",
              "          ...,\n",
              "          [355., 235., 217.,  ..., 291., 453., 387.],\n",
              "          [ 25., 373., 103.,  ..., 167.,  75., 397.],\n",
              "          [159., 103., 435.,  ..., 201., 355., 461.]],\n",
              "\n",
              "         [[145., 153., 139.,  ...,  11., 143., 417.],\n",
              "          [ 27.,  57., 119.,  ...,  73., 131.,  43.],\n",
              "          [235., 129., 245.,  ..., 269., 143., 249.],\n",
              "          ...,\n",
              "          [ 73.,  53., 421.,  ..., 419., 361., 129.],\n",
              "          [ 99., 193., 235.,  ..., 271., 217., 121.],\n",
              "          [163., 233., 473.,  ...,  27., 341., 269.]],\n",
              "\n",
              "         [[507., 145., 331.,  ...,  81., 473.,  63.],\n",
              "          [371., 317., 403.,  ...,  65.,  59., 155.],\n",
              "          [435.,  73.,  39.,  ...,  45., 497., 317.],\n",
              "          ...,\n",
              "          [389., 263., 151.,  ..., 151., 133.,  87.],\n",
              "          [275., 377., 245.,  ..., 135., 189.,  79.],\n",
              "          [383., 433., 259.,  ..., 431., 181., 409.]]],\n",
              "\n",
              "\n",
              "        [[[ 51., 273., 359.,  ..., 351., 185., 475.],\n",
              "          [279., 477.,  49.,  ..., 351., 327., 319.],\n",
              "          [503., 263., 135.,  ..., 381., 483.,  41.],\n",
              "          ...,\n",
              "          [391.,  47., 427.,  ..., 211.,  35., 301.],\n",
              "          [399.,  33.,  51.,  ...,  53., 287., 431.],\n",
              "          [129., 353., 113.,  ..., 445., 299., 503.]],\n",
              "\n",
              "         [[411., 207., 167.,  ..., 235., 261., 329.],\n",
              "          [479.,  45., 231.,  ..., 411., 219., 367.],\n",
              "          [473.,  61., 405.,  ..., 145., 339., 203.],\n",
              "          ...,\n",
              "          [ 27., 207., 243.,  ..., 241.,  35., 365.],\n",
              "          [349.,  31., 455.,  ..., 335., 279.,  11.],\n",
              "          [449., 399., 179.,  ..., 279.,  79., 401.]],\n",
              "\n",
              "         [[453., 495., 327.,  ..., 139.,  47., 169.],\n",
              "          [427.,  97., 373.,  ..., 193.,  43., 297.],\n",
              "          [ 31., 313., 469.,  ..., 283., 319., 187.],\n",
              "          ...,\n",
              "          [317., 411.,  15.,  ..., 229., 445., 163.],\n",
              "          [513., 127., 423.,  ..., 185., 169.,   5.],\n",
              "          [251., 227., 121.,  ..., 307., 357., 331.]]],\n",
              "\n",
              "\n",
              "        [[[371., 143., 231.,  ..., 183., 403., 155.],\n",
              "          [409., 461., 195.,  ..., 203., 323., 331.],\n",
              "          [ 17., 415., 385.,  ..., 429., 451., 157.],\n",
              "          ...,\n",
              "          [ 51., 355., 305.,  ..., 287., 491., 147.],\n",
              "          [101., 473., 369.,  ..., 135., 489., 261.],\n",
              "          [141., 175., 233.,  ...,  65., 375., 115.]],\n",
              "\n",
              "         [[159., 467., 179.,  ...,  73., 303.,  69.],\n",
              "          [425.,  29., 443.,  ..., 101., 343.,  89.],\n",
              "          [409., 177., 129.,  ..., 429., 111.,  91.],\n",
              "          ...,\n",
              "          [455., 337., 125.,  ..., 357., 135., 103.],\n",
              "          [235., 495., 221.,  ...,  91., 427., 507.],\n",
              "          [ 37., 473., 491.,  ..., 235.,  17., 405.]],\n",
              "\n",
              "         [[ 69., 295.,  77.,  ..., 311., 263., 489.],\n",
              "          [  9., 149., 369.,  ..., 457.,  39.,  99.],\n",
              "          [351., 307., 391.,  ...,  45., 307., 117.],\n",
              "          ...,\n",
              "          [285.,  91., 123.,  ...,  73.,  17., 283.],\n",
              "          [403., 251., 383.,  ..., 511., 371., 481.],\n",
              "          [369.,  73., 481.,  ..., 459., 415., 143.]]],\n",
              "\n",
              "\n",
              "        ...,\n",
              "\n",
              "\n",
              "        [[[407.,  53., 197.,  ..., 507., 345., 251.],\n",
              "          [ 33., 161., 213.,  ..., 407., 375.,   5.],\n",
              "          [ 19., 241., 159.,  ..., 335., 489., 269.],\n",
              "          ...,\n",
              "          [215., 163., 295.,  ..., 487., 505., 287.],\n",
              "          [119., 453.,   7.,  ..., 197., 445., 117.],\n",
              "          [289., 193., 245.,  ..., 457.,  81., 395.]],\n",
              "\n",
              "         [[301.,  41., 445.,  ...,  13., 401., 119.],\n",
              "          [473., 399., 257.,  ..., 423., 287., 421.],\n",
              "          [ 79., 465., 169.,  ..., 491., 167., 201.],\n",
              "          ...,\n",
              "          [259., 377., 487.,  ..., 499.,  77.,  19.],\n",
              "          [323.,  23.,  17.,  ..., 493., 493., 335.],\n",
              "          [301., 323., 399.,  ...,  85.,  51., 443.]],\n",
              "\n",
              "         [[287.,  97., 395.,  ..., 229.,  59., 513.],\n",
              "          [121., 431., 213.,  ...,  31., 301., 375.],\n",
              "          [285., 127.,  97.,  ..., 409.,  39., 193.],\n",
              "          ...,\n",
              "          [157., 339.,  65.,  ...,  87., 293., 233.],\n",
              "          [117., 405., 377.,  ..., 279., 175., 489.],\n",
              "          [411., 343.,  75.,  ..., 311., 185., 105.]]],\n",
              "\n",
              "\n",
              "        [[[169., 251., 297.,  ..., 141.,  53., 263.],\n",
              "          [195., 413.,  49.,  ...,  41., 239.,  61.],\n",
              "          [383.,  23., 417.,  ..., 433.,  27.,   7.],\n",
              "          ...,\n",
              "          [353., 467., 395.,  ..., 285., 289.,  23.],\n",
              "          [263., 273., 493.,  ..., 241., 157., 139.],\n",
              "          [513., 119.,  75.,  ..., 279., 219., 301.]],\n",
              "\n",
              "         [[259., 491., 207.,  ...,  43., 155., 221.],\n",
              "          [227.,  29.,  27.,  ..., 131., 383., 377.],\n",
              "          [331., 123., 385.,  ..., 205., 421., 299.],\n",
              "          ...,\n",
              "          [291., 289., 391.,  ..., 275.,   5., 485.],\n",
              "          [271.,  79., 383.,  ...,   7., 165.,  85.],\n",
              "          [455., 363., 471.,  ...,  69., 443.,  91.]],\n",
              "\n",
              "         [[241., 485.,  51.,  ..., 111.,  15., 163.],\n",
              "          [493., 449., 177.,  ...,   9.,  27., 359.],\n",
              "          [423., 159.,  77.,  ..., 165., 241.,  53.],\n",
              "          ...,\n",
              "          [279., 139., 437.,  ...,  81.,  71.,  41.],\n",
              "          [491., 109., 475.,  ..., 515., 391., 465.],\n",
              "          [419., 341., 427.,  ...,  57., 453., 203.]]],\n",
              "\n",
              "\n",
              "        [[[237.,  55., 255.,  ..., 353., 199.,  29.],\n",
              "          [119.,  97., 185.,  ..., 405., 375., 187.],\n",
              "          [ 55., 203., 347.,  ...,  63., 503., 343.],\n",
              "          ...,\n",
              "          [245., 281., 383.,  ..., 437., 443., 269.],\n",
              "          [347., 265., 451.,  ..., 405., 233., 163.],\n",
              "          [ 81.,  97., 349.,  ..., 229., 477., 129.]],\n",
              "\n",
              "         [[295., 419., 155.,  ..., 515., 307., 285.],\n",
              "          [117., 309.,  45.,  ..., 333., 497., 335.],\n",
              "          [ 81., 249.,  51.,  ..., 347., 129., 507.],\n",
              "          ...,\n",
              "          [171.,  75., 335.,  ..., 113.,  47.,  55.],\n",
              "          [185., 373., 327.,  ..., 453.,  91., 453.],\n",
              "          [263., 251.,  33.,  ..., 223., 255.,  57.]],\n",
              "\n",
              "         [[299., 271., 291.,  ..., 125.,  37.,  87.],\n",
              "          [501., 433., 307.,  ..., 235., 135., 299.],\n",
              "          [331., 505., 325.,  ...,  63., 459.,  57.],\n",
              "          ...,\n",
              "          [337., 185., 233.,  ..., 193., 473.,   5.],\n",
              "          [439., 329., 455.,  ..., 493., 313., 317.],\n",
              "          [349., 121., 485.,  ..., 225., 409.,   5.]]]])"
            ]
          },
          "metadata": {},
          "execution_count": 30
        }
      ]
    },
    {
      "cell_type": "markdown",
      "source": [
        ""
      ],
      "metadata": {
        "id": "hqnOlXUmqRdR"
      }
    },
    {
      "cell_type": "code",
      "source": [
        ""
      ],
      "metadata": {
        "id": "N2zOGtiXp52j"
      },
      "execution_count": null,
      "outputs": []
    }
  ]
}