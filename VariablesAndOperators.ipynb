{
  "nbformat": 4,
  "nbformat_minor": 0,
  "metadata": {
    "colab": {
      "name": "VariablesAndOperators",
      "provenance": [],
      "authorship_tag": "ABX9TyOLIwWbX0+RoKoi2NsYUnpx",
      "include_colab_link": true
    },
    "kernelspec": {
      "name": "python3",
      "display_name": "Python 3"
    },
    "language_info": {
      "name": "python"
    }
  },
  "cells": [
    {
      "cell_type": "markdown",
      "metadata": {
        "id": "view-in-github",
        "colab_type": "text"
      },
      "source": [
        "<a href=\"https://colab.research.google.com/github/JinyongShin/PythonStudy/blob/master/VariablesAndOperators.ipynb\" target=\"_parent\"><img src=\"https://colab.research.google.com/assets/colab-badge.svg\" alt=\"Open In Colab\"/></a>"
      ]
    },
    {
      "cell_type": "markdown",
      "metadata": {
        "id": "Acc6ldRuOVNe"
      },
      "source": [
        "#Variables"
      ]
    },
    {
      "cell_type": "code",
      "metadata": {
        "colab": {
          "base_uri": "https://localhost:8080/"
        },
        "id": "5icXMf9iOUvG",
        "outputId": "4a860392-b3de-4b2e-961f-cab83c785707"
      },
      "source": [
        "x = 2     #int\n",
        "y = 5     #int\n",
        "z = 7.2   #float\n",
        "\n",
        "print(type(x))\n",
        "print(type(y))\n",
        "print(type(z))\n",
        "\n",
        "a,b = 4,5.0 #multiple assignment\n",
        "print(type(a))\n",
        "print(type(b))"
      ],
      "execution_count": 1,
      "outputs": [
        {
          "output_type": "stream",
          "text": [
            "<class 'int'>\n",
            "<class 'int'>\n",
            "<class 'float'>\n",
            "<class 'int'>\n",
            "<class 'float'>\n"
          ],
          "name": "stdout"
        }
      ]
    },
    {
      "cell_type": "code",
      "metadata": {
        "colab": {
          "base_uri": "https://localhost:8080/",
          "height": 190
        },
        "id": "g8hgQOv9O45P",
        "outputId": "bf2e9b48-ac02-4ef0-952e-303207727e58"
      },
      "source": [
        "del x #deletes x\n",
        "print(x) #error"
      ],
      "execution_count": 2,
      "outputs": [
        {
          "output_type": "error",
          "ename": "NameError",
          "evalue": "ignored",
          "traceback": [
            "\u001b[0;31m---------------------------------------------------------------------------\u001b[0m",
            "\u001b[0;31mNameError\u001b[0m                                 Traceback (most recent call last)",
            "\u001b[0;32m<ipython-input-2-1b106c302e37>\u001b[0m in \u001b[0;36m<module>\u001b[0;34m()\u001b[0m\n\u001b[1;32m      1\u001b[0m \u001b[0;32mdel\u001b[0m \u001b[0mx\u001b[0m \u001b[0;31m#deletes x\u001b[0m\u001b[0;34m\u001b[0m\u001b[0;34m\u001b[0m\u001b[0m\n\u001b[0;32m----> 2\u001b[0;31m \u001b[0mprint\u001b[0m\u001b[0;34m(\u001b[0m\u001b[0mx\u001b[0m\u001b[0;34m)\u001b[0m \u001b[0;31m#error\u001b[0m\u001b[0;34m\u001b[0m\u001b[0;34m\u001b[0m\u001b[0m\n\u001b[0m",
            "\u001b[0;31mNameError\u001b[0m: name 'x' is not defined"
          ]
        }
      ]
    },
    {
      "cell_type": "code",
      "metadata": {
        "colab": {
          "base_uri": "https://localhost:8080/"
        },
        "id": "Va0NcrQZPXR1",
        "outputId": "42b9fbc6-2b74-481e-cabe-e9bb6d7cf6d3"
      },
      "source": [
        "s = \"nellow\"    #str\n",
        "s2 = \"12\"       #str\n",
        "c = 2+4j        #complex\n",
        "\n",
        "print(type(s))\n",
        "print(type(s2))\n",
        "print(type(c))"
      ],
      "execution_count": 4,
      "outputs": [
        {
          "output_type": "stream",
          "text": [
            "<class 'str'>\n",
            "<class 'str'>\n",
            "<class 'complex'>\n"
          ],
          "name": "stdout"
        }
      ]
    },
    {
      "cell_type": "code",
      "metadata": {
        "colab": {
          "base_uri": "https://localhost:8080/"
        },
        "id": "tkNorwjDPxXX",
        "outputId": "497be2ed-18f6-494a-aa22-6a27682e911f"
      },
      "source": [
        "%whos           #Tell you all the variables in the memory right now."
      ],
      "execution_count": 5,
      "outputs": [
        {
          "output_type": "stream",
          "text": [
            "Variable   Type       Data/Info\n",
            "-------------------------------\n",
            "a          int        4\n",
            "b          float      5.0\n",
            "c          complex    (2+4j)\n",
            "s          str        nellow\n",
            "s2         str        12\n",
            "y          int        5\n",
            "z          float      7.2\n"
          ],
          "name": "stdout"
        }
      ]
    },
    {
      "cell_type": "code",
      "metadata": {
        "colab": {
          "base_uri": "https://localhost:8080/"
        },
        "id": "G5WMmG4yQQvn",
        "outputId": "ea5284aa-48c0-4354-bb05-f944bd8dd9ad"
      },
      "source": [
        "a = 4.7       # Change value of a --> automatically change the type of a\n",
        "%whos\n",
        "print(type(a))"
      ],
      "execution_count": 6,
      "outputs": [
        {
          "output_type": "stream",
          "text": [
            "Variable   Type       Data/Info\n",
            "-------------------------------\n",
            "a          float      4.7\n",
            "b          float      5.0\n",
            "c          complex    (2+4j)\n",
            "s          str        nellow\n",
            "s2         str        12\n",
            "y          int        5\n",
            "z          float      7.2\n",
            "<class 'float'>\n"
          ],
          "name": "stdout"
        }
      ]
    },
    {
      "cell_type": "markdown",
      "metadata": {
        "id": "hcYSMVWYQ4mm"
      },
      "source": [
        "#Operators"
      ]
    },
    {
      "cell_type": "code",
      "metadata": {
        "colab": {
          "base_uri": "https://localhost:8080/"
        },
        "id": "PnIcD_oLQxE9",
        "outputId": "cc0ddb89-a429-404b-d276-ddae9de483ef"
      },
      "source": [
        "# + Addition , - Subtraction , / division , % mod , * multiplication , // flor division , ** to the power of\n",
        "\n",
        "sumOfaAndb = a + b\n",
        "print(sumOfaAndb)\n",
        "print(type(a) , type(b) , type(sumOfaAndb))\n",
        "\n",
        "x = 2\n",
        "sumOfxAndy = x + y\n",
        "print(sumOfxAndy)\n",
        "print(type(x) , type(y) , type(sumOfxAndy))\n",
        "\n",
        "sumOfaAndy = a + y\n",
        "print(sumOfaAndy)\n",
        "print(type(a) , type(y) , type(sumOfaAndy))"
      ],
      "execution_count": 13,
      "outputs": [
        {
          "output_type": "stream",
          "text": [
            "9.7\n",
            "<class 'float'> <class 'float'> <class 'float'>\n",
            "7\n",
            "<class 'int'> <class 'int'> <class 'int'>\n",
            "9.7\n",
            "<class 'float'> <class 'int'> <class 'float'>\n"
          ],
          "name": "stdout"
        }
      ]
    },
    {
      "cell_type": "code",
      "metadata": {
        "colab": {
          "base_uri": "https://localhost:8080/"
        },
        "id": "fv2ClcosSnsN",
        "outputId": "c6eadafb-250e-4627-990e-715c52e8fcf2"
      },
      "source": [
        "v = ((a+b)**3)/4\n",
        "print(v)"
      ],
      "execution_count": 15,
      "outputs": [
        {
          "output_type": "stream",
          "text": [
            "228.16824999999994\n"
          ],
          "name": "stdout"
        }
      ]
    },
    {
      "cell_type": "code",
      "metadata": {
        "colab": {
          "base_uri": "https://localhost:8080/"
        },
        "id": "9rxu7AyCS0T0",
        "outputId": "a80e3a3c-f5a1-4bf3-9e1f-12dfa37f8121"
      },
      "source": [
        "s1 = \"hello\"\n",
        "s2 = \"world\"\n",
        "\n",
        "s = s1 + s2\n",
        "\n",
        "print(s)"
      ],
      "execution_count": 17,
      "outputs": [
        {
          "output_type": "stream",
          "text": [
            "helloworld\n"
          ],
          "name": "stdout"
        }
      ]
    },
    {
      "cell_type": "code",
      "metadata": {
        "colab": {
          "base_uri": "https://localhost:8080/"
        },
        "id": "RFLJZZ_4S8Ub",
        "outputId": "cd0640e6-0ad9-4126-9ddd-0514c4233a5c"
      },
      "source": [
        "10//3"
      ],
      "execution_count": 24,
      "outputs": [
        {
          "output_type": "execute_result",
          "data": {
            "text/plain": [
              "3"
            ]
          },
          "metadata": {
            "tags": []
          },
          "execution_count": 24
        }
      ]
    },
    {
      "cell_type": "code",
      "metadata": {
        "colab": {
          "base_uri": "https://localhost:8080/"
        },
        "id": "eVHCS9STTO2q",
        "outputId": "a919fc7e-4cdc-42ac-ac6d-4c1a9a10df0c"
      },
      "source": [
        "10/3"
      ],
      "execution_count": 22,
      "outputs": [
        {
          "output_type": "execute_result",
          "data": {
            "text/plain": [
              "3.3333333333333335"
            ]
          },
          "metadata": {
            "tags": []
          },
          "execution_count": 22
        }
      ]
    },
    {
      "cell_type": "code",
      "metadata": {
        "colab": {
          "base_uri": "https://localhost:8080/"
        },
        "id": "dyy5_aSLTQDh",
        "outputId": "cc10d4c8-a605-42e4-bdb9-b757e79a99ff"
      },
      "source": [
        "_  # in interpreter _(under score) stores last results"
      ],
      "execution_count": 23,
      "outputs": [
        {
          "output_type": "execute_result",
          "data": {
            "text/plain": [
              "3.3333333333333335"
            ]
          },
          "metadata": {
            "tags": []
          },
          "execution_count": 23
        }
      ]
    },
    {
      "cell_type": "markdown",
      "metadata": {
        "id": "MkjWj03DT9XG"
      },
      "source": [
        "#Variable name \n",
        "\n",
        "Rules for Python variables:\n",
        "\n",
        "A variable name must start with a letter or the underscore character\n",
        "\n",
        "A variable name cannot start with a number\n",
        "\n",
        "A variable name can only contain alpha-numeric characters and underscores (A-z, 0-9, and _ )\n",
        "\n",
        "Variable names are case-sensitive (age, Age and AGE are three different variables)\n"
      ]
    },
    {
      "cell_type": "code",
      "metadata": {
        "colab": {
          "base_uri": "https://localhost:8080/",
          "height": 136
        },
        "id": "MjhgtD0HTQj5",
        "outputId": "15a96727-3110-448f-b65e-c33d965a56a9"
      },
      "source": [
        "3x = 4"
      ],
      "execution_count": 25,
      "outputs": [
        {
          "output_type": "error",
          "ename": "SyntaxError",
          "evalue": "ignored",
          "traceback": [
            "\u001b[0;36m  File \u001b[0;32m\"<ipython-input-25-193e99eeef6e>\"\u001b[0;36m, line \u001b[0;32m1\u001b[0m\n\u001b[0;31m    3x = 4\u001b[0m\n\u001b[0m     ^\u001b[0m\n\u001b[0;31mSyntaxError\u001b[0m\u001b[0;31m:\u001b[0m invalid syntax\n"
          ]
        }
      ]
    },
    {
      "cell_type": "code",
      "metadata": {
        "colab": {
          "base_uri": "https://localhost:8080/",
          "height": 136
        },
        "id": "2mUeCLXtUG3G",
        "outputId": "72a201e0-8886-4220-fbaf-589fcff08798"
      },
      "source": [
        "@y = 4"
      ],
      "execution_count": 26,
      "outputs": [
        {
          "output_type": "error",
          "ename": "SyntaxError",
          "evalue": "ignored",
          "traceback": [
            "\u001b[0;36m  File \u001b[0;32m\"<ipython-input-26-eb3fe2a8a975>\"\u001b[0;36m, line \u001b[0;32m1\u001b[0m\n\u001b[0;31m    @y = 4\u001b[0m\n\u001b[0m       ^\u001b[0m\n\u001b[0;31mSyntaxError\u001b[0m\u001b[0;31m:\u001b[0m invalid syntax\n"
          ]
        }
      ]
    },
    {
      "cell_type": "code",
      "metadata": {
        "colab": {
          "base_uri": "https://localhost:8080/",
          "height": 136
        },
        "id": "LDAgvt-KUIsn",
        "outputId": "75039a87-a2e7-4530-9316-7ae26bcf0cbe"
      },
      "source": [
        "*t=4"
      ],
      "execution_count": 27,
      "outputs": [
        {
          "output_type": "error",
          "ename": "SyntaxError",
          "evalue": "ignored",
          "traceback": [
            "\u001b[0;36m  File \u001b[0;32m\"<ipython-input-27-3588004ff47c>\"\u001b[0;36m, line \u001b[0;32m1\u001b[0m\n\u001b[0;31m    *t=4\u001b[0m\n\u001b[0m        ^\u001b[0m\n\u001b[0;31mSyntaxError\u001b[0m\u001b[0;31m:\u001b[0m starred assignment target must be in a list or tuple\n"
          ]
        }
      ]
    },
    {
      "cell_type": "code",
      "metadata": {
        "colab": {
          "base_uri": "https://localhost:8080/"
        },
        "id": "7nXNcoHsUMrv",
        "outputId": "b07f527b-7f04-46ee-eb04-9019e4352675"
      },
      "source": [
        "_e = 6\n",
        "print(_e)"
      ],
      "execution_count": 37,
      "outputs": [
        {
          "output_type": "stream",
          "text": [
            "6\n"
          ],
          "name": "stdout"
        }
      ]
    }
  ]
}