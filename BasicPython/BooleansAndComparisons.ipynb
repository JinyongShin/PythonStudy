{
  "nbformat": 4,
  "nbformat_minor": 0,
  "metadata": {
    "colab": {
      "name": "BooleansAndComparisons.ipynb",
      "provenance": [],
      "authorship_tag": "ABX9TyOodN4qmth4EQPjLtGhFaP2",
      "include_colab_link": true
    },
    "kernelspec": {
      "name": "python3",
      "display_name": "Python 3"
    },
    "language_info": {
      "name": "python"
    }
  },
  "cells": [
    {
      "cell_type": "markdown",
      "metadata": {
        "id": "view-in-github",
        "colab_type": "text"
      },
      "source": [
        "<a href=\"https://colab.research.google.com/github/JinyongShin/PythonStudy/blob/master/BasicPython/BooleansAndComparisons.ipynb\" target=\"_parent\"><img src=\"https://colab.research.google.com/assets/colab-badge.svg\" alt=\"Open In Colab\"/></a>"
      ]
    },
    {
      "cell_type": "markdown",
      "metadata": {
        "id": "oH5jq3g-BxO1"
      },
      "source": [
        "#Bool"
      ]
    },
    {
      "cell_type": "code",
      "metadata": {
        "id": "sY49vmai10bk"
      },
      "source": [
        "a = True\n",
        "b = True\n",
        "c = False"
      ],
      "execution_count": 4,
      "outputs": []
    },
    {
      "cell_type": "code",
      "metadata": {
        "colab": {
          "base_uri": "https://localhost:8080/"
        },
        "id": "h_b3WKvqB2N8",
        "outputId": "e80025e6-68ef-4993-e969-88ed6e2761a8"
      },
      "source": [
        "%whos"
      ],
      "execution_count": 5,
      "outputs": [
        {
          "output_type": "stream",
          "text": [
            "Variable   Type    Data/Info\n",
            "----------------------------\n",
            "a          bool    True\n",
            "b          bool    True\n",
            "c          bool    False\n"
          ],
          "name": "stdout"
        }
      ]
    },
    {
      "cell_type": "code",
      "metadata": {
        "colab": {
          "base_uri": "https://localhost:8080/"
        },
        "id": "1ywx8D70B3g8",
        "outputId": "2f55a5b5-bf05-4fb0-b9e0-0e2901a6b331"
      },
      "source": [
        "print(a and b)\n",
        "print(a and c)\n",
        "print(c and a)"
      ],
      "execution_count": 6,
      "outputs": [
        {
          "output_type": "stream",
          "text": [
            "True\n",
            "False\n",
            "False\n"
          ],
          "name": "stdout"
        }
      ]
    },
    {
      "cell_type": "code",
      "metadata": {
        "colab": {
          "base_uri": "https://localhost:8080/"
        },
        "id": "UyZgiTTfB9CL",
        "outputId": "2bc3a03b-d61c-4b91-a629-8458d0449b09"
      },
      "source": [
        "d = a or c\n",
        "print(d)"
      ],
      "execution_count": 7,
      "outputs": [
        {
          "output_type": "stream",
          "text": [
            "True\n"
          ],
          "name": "stdout"
        }
      ]
    },
    {
      "cell_type": "code",
      "metadata": {
        "colab": {
          "base_uri": "https://localhost:8080/"
        },
        "id": "xLRG62cnB_aE",
        "outputId": "57b78af6-5a91-4495-bd48-e7d76d0fbff1"
      },
      "source": [
        "not(a)"
      ],
      "execution_count": 8,
      "outputs": [
        {
          "output_type": "execute_result",
          "data": {
            "text/plain": [
              "False"
            ]
          },
          "metadata": {
            "tags": []
          },
          "execution_count": 8
        }
      ]
    },
    {
      "cell_type": "code",
      "metadata": {
        "colab": {
          "base_uri": "https://localhost:8080/"
        },
        "id": "2hruvxUOCDxz",
        "outputId": "06862973-cb21-48e1-ec51-3ab2b32a26ea"
      },
      "source": [
        "not(c)"
      ],
      "execution_count": 9,
      "outputs": [
        {
          "output_type": "execute_result",
          "data": {
            "text/plain": [
              "True"
            ]
          },
          "metadata": {
            "tags": []
          },
          "execution_count": 9
        }
      ]
    },
    {
      "cell_type": "code",
      "metadata": {
        "colab": {
          "base_uri": "https://localhost:8080/"
        },
        "id": "ICY9SU7XCE-z",
        "outputId": "7ada2d08-0335-42a2-946a-6982a63de671"
      },
      "source": [
        "t = not(d)\n",
        "type(t)\n",
        "print(t)"
      ],
      "execution_count": 10,
      "outputs": [
        {
          "output_type": "stream",
          "text": [
            "False\n"
          ],
          "name": "stdout"
        }
      ]
    },
    {
      "cell_type": "code",
      "metadata": {
        "colab": {
          "base_uri": "https://localhost:8080/"
        },
        "id": "W_8QpjmvCJMr",
        "outputId": "eaec9569-6cd3-4849-db2f-74c4f2e4bd25"
      },
      "source": [
        "not((a and b) or (c or d))"
      ],
      "execution_count": 11,
      "outputs": [
        {
          "output_type": "execute_result",
          "data": {
            "text/plain": [
              "False"
            ]
          },
          "metadata": {
            "tags": []
          },
          "execution_count": 11
        }
      ]
    },
    {
      "cell_type": "markdown",
      "metadata": {
        "id": "lNO4BNhC0H8w"
      },
      "source": [
        "#Comparisons\n",
        "\n",
        "$==$ : True, if it is equal \\\\\n",
        "$!=$ : True, if it is not equal \\\\\n",
        "$<$  : less than \\\\\n",
        "$>$  : greater than \\\\\n",
        "$<=$ : less than or equal to \\\\\n",
        "$>=$ : greater than or equal to \\\\"
      ]
    },
    {
      "cell_type": "code",
      "metadata": {
        "colab": {
          "base_uri": "https://localhost:8080/"
        },
        "id": "QjUL6G_1Cfzx",
        "outputId": "c85b3517-6f25-410e-8700-0ba607e3d84a"
      },
      "source": [
        "print(2 < 3)"
      ],
      "execution_count": 15,
      "outputs": [
        {
          "output_type": "stream",
          "text": [
            "True\n"
          ],
          "name": "stdout"
        }
      ]
    },
    {
      "cell_type": "code",
      "metadata": {
        "colab": {
          "base_uri": "https://localhost:8080/"
        },
        "id": "zH77SpjnClYi",
        "outputId": "36c0bf2b-52a6-4b72-e67a-5de88a0d70db"
      },
      "source": [
        "c = 2 < 3\n",
        "print(type(c))\n",
        "print(c)"
      ],
      "execution_count": 16,
      "outputs": [
        {
          "output_type": "stream",
          "text": [
            "<class 'bool'>\n",
            "True\n"
          ],
          "name": "stdout"
        }
      ]
    },
    {
      "cell_type": "code",
      "metadata": {
        "colab": {
          "base_uri": "https://localhost:8080/"
        },
        "id": "O5cYjt0DCqIR",
        "outputId": "454ce137-e6a1-449a-d84b-df74be4368cb"
      },
      "source": [
        "d = 3 == 4\n",
        "print(d)"
      ],
      "execution_count": 17,
      "outputs": [
        {
          "output_type": "stream",
          "text": [
            "False\n"
          ],
          "name": "stdout"
        }
      ]
    },
    {
      "cell_type": "code",
      "metadata": {
        "colab": {
          "base_uri": "https://localhost:8080/"
        },
        "id": "Zx4WTMp-Cz3I",
        "outputId": "5eb98dd2-a25b-4534-db3c-74204c2c4f60"
      },
      "source": [
        "3 == 3.0"
      ],
      "execution_count": 18,
      "outputs": [
        {
          "output_type": "execute_result",
          "data": {
            "text/plain": [
              "True"
            ]
          },
          "metadata": {
            "tags": []
          },
          "execution_count": 18
        }
      ]
    },
    {
      "cell_type": "code",
      "metadata": {
        "id": "pTtRflbNC2ho"
      },
      "source": [
        "x = 4\n",
        "y = 9\n",
        "z = 8.3\n",
        "r = -3"
      ],
      "execution_count": 19,
      "outputs": []
    },
    {
      "cell_type": "code",
      "metadata": {
        "colab": {
          "base_uri": "https://localhost:8080/"
        },
        "id": "Ti1Uu7Y_C873",
        "outputId": "8500e5c1-c9ef-4232-e638-3ac87ae11982"
      },
      "source": [
        "(x < y) and (z < y) or (r == x)"
      ],
      "execution_count": 20,
      "outputs": [
        {
          "output_type": "execute_result",
          "data": {
            "text/plain": [
              "True"
            ]
          },
          "metadata": {
            "tags": []
          },
          "execution_count": 20
        }
      ]
    },
    {
      "cell_type": "code",
      "metadata": {
        "colab": {
          "base_uri": "https://localhost:8080/"
        },
        "id": "yb9UtSzoDJBP",
        "outputId": "896911a5-614c-4e79-a98e-91dbcc9c6447"
      },
      "source": [
        "(r == x) and (x < y) or (z > y)"
      ],
      "execution_count": 21,
      "outputs": [
        {
          "output_type": "execute_result",
          "data": {
            "text/plain": [
              "False"
            ]
          },
          "metadata": {
            "tags": []
          },
          "execution_count": 21
        }
      ]
    },
    {
      "cell_type": "code",
      "metadata": {
        "colab": {
          "base_uri": "https://localhost:8080/"
        },
        "id": "gnRSuo8YETyK",
        "outputId": "a0a29c11-a2d5-4efd-cbdc-55eb1f5bec49"
      },
      "source": [
        "False and False"
      ],
      "execution_count": 27,
      "outputs": [
        {
          "output_type": "execute_result",
          "data": {
            "text/plain": [
              "False"
            ]
          },
          "metadata": {
            "tags": []
          },
          "execution_count": 27
        }
      ]
    },
    {
      "cell_type": "code",
      "metadata": {
        "colab": {
          "base_uri": "https://localhost:8080/"
        },
        "id": "WubCxmC2Da2e",
        "outputId": "f226ff26-5b66-482f-e19a-ca7dbbb977e1"
      },
      "source": [
        "True or False and True"
      ],
      "execution_count": 22,
      "outputs": [
        {
          "output_type": "execute_result",
          "data": {
            "text/plain": [
              "True"
            ]
          },
          "metadata": {
            "tags": []
          },
          "execution_count": 22
        }
      ]
    },
    {
      "cell_type": "code",
      "metadata": {
        "colab": {
          "base_uri": "https://localhost:8080/"
        },
        "id": "9-6aKzHADeHW",
        "outputId": "e10d2adf-819d-48e0-ce89-c1eb33a57b8b"
      },
      "source": [
        "False or False and True"
      ],
      "execution_count": 23,
      "outputs": [
        {
          "output_type": "execute_result",
          "data": {
            "text/plain": [
              "False"
            ]
          },
          "metadata": {
            "tags": []
          },
          "execution_count": 23
        }
      ]
    },
    {
      "cell_type": "code",
      "metadata": {
        "colab": {
          "base_uri": "https://localhost:8080/"
        },
        "id": "9BuZF6VwDix9",
        "outputId": "c8ea45b0-b8ef-4c1e-a13c-6669247b05c5"
      },
      "source": [
        "False and False or True"
      ],
      "execution_count": 24,
      "outputs": [
        {
          "output_type": "execute_result",
          "data": {
            "text/plain": [
              "True"
            ]
          },
          "metadata": {
            "tags": []
          },
          "execution_count": 24
        }
      ]
    },
    {
      "cell_type": "code",
      "metadata": {
        "colab": {
          "base_uri": "https://localhost:8080/"
        },
        "id": "aCXgW-SiDsLV",
        "outputId": "bd39708e-f4c2-4545-da8d-603ede58ef68"
      },
      "source": [
        "True or False and False"
      ],
      "execution_count": 25,
      "outputs": [
        {
          "output_type": "execute_result",
          "data": {
            "text/plain": [
              "True"
            ]
          },
          "metadata": {
            "tags": []
          },
          "execution_count": 25
        }
      ]
    },
    {
      "cell_type": "code",
      "metadata": {
        "colab": {
          "base_uri": "https://localhost:8080/"
        },
        "id": "YAJqIaDjD2h8",
        "outputId": "253e3263-a31c-44f2-9855-90de8ff0cf2a"
      },
      "source": [
        "(True or False) and False"
      ],
      "execution_count": 26,
      "outputs": [
        {
          "output_type": "execute_result",
          "data": {
            "text/plain": [
              "False"
            ]
          },
          "metadata": {
            "tags": []
          },
          "execution_count": 26
        }
      ]
    },
    {
      "cell_type": "markdown",
      "metadata": {
        "id": "fsh28i8QEbx0"
      },
      "source": [
        "operator precedence\n",
        "\n",
        "and > or"
      ]
    },
    {
      "cell_type": "code",
      "metadata": {
        "colab": {
          "base_uri": "https://localhost:8080/"
        },
        "id": "w7y6V0-rFVuu",
        "outputId": "baab58ec-40c3-4fa6-ccba-45e4f83c2ae4"
      },
      "source": [
        "print((not(2 != 3) and True) or (False and True)) # not(2 != 3) --> not(True) --> False\n",
        "                                                  # not(2 != 3) and True --> False and True --> False\n",
        "                                                  # False and True --> False\n",
        "                                                  # False or False --> False"
      ],
      "execution_count": 28,
      "outputs": [
        {
          "output_type": "stream",
          "text": [
            "False\n"
          ],
          "name": "stdout"
        }
      ]
    }
  ]
}