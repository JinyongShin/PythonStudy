{
  "nbformat": 4,
  "nbformat_minor": 0,
  "metadata": {
    "colab": {
      "name": "ControlFlow_in_Python_loops.ipynb",
      "provenance": [],
      "authorship_tag": "ABX9TyOd2aCvg9lwwKeu2g/X2LdW",
      "include_colab_link": true
    },
    "kernelspec": {
      "name": "python3",
      "display_name": "Python 3"
    },
    "language_info": {
      "name": "python"
    }
  },
  "cells": [
    {
      "cell_type": "markdown",
      "metadata": {
        "id": "view-in-github",
        "colab_type": "text"
      },
      "source": [
        "<a href=\"https://colab.research.google.com/github/JinyongShin/PythonStudy/blob/master/BasicPython/ControlFlow_in_Python_loops.ipynb\" target=\"_parent\"><img src=\"https://colab.research.google.com/assets/colab-badge.svg\" alt=\"Open In Colab\"/></a>"
      ]
    },
    {
      "cell_type": "markdown",
      "metadata": {
        "id": "JcMZ1qsLx_E2"
      },
      "source": [
        "Review of if"
      ]
    },
    {
      "cell_type": "code",
      "metadata": {
        "colab": {
          "base_uri": "https://localhost:8080/"
        },
        "id": "VF7Lq0nZvmU9",
        "outputId": "4047f82c-4fcf-47fe-9ff2-d41b222c8ce8"
      },
      "source": [
        "# single line comment\n",
        "\"\"\"\n",
        "multi line comment\n",
        "\"\"\"\n",
        "\"\"\"\n",
        "User will enter a floating point number let say 238.915.\n",
        "Yout task is to find out the integer portion before the point (in this case 238)\n",
        "and then check if that integer portion is an even number or not.\n",
        "\"\"\"\n",
        "x = float(input(\"Enter a real number : \"))\n",
        "y = round(x)\n",
        "if x > 0 :\n",
        "  if y > x :\n",
        "    intPortion = y - 1 \n",
        "  else :\n",
        "    intPortion = y\n",
        "else :\n",
        "  if y < x :\n",
        "    intPortion = y + 1\n",
        "  else :  \n",
        "    intPortion = y\n",
        "\n",
        "if intPortion % 2 == 0 :\n",
        "  print(\"Even\")\n",
        "else :\n",
        "  print(\"Odd\")"
      ],
      "execution_count": 15,
      "outputs": [
        {
          "output_type": "stream",
          "text": [
            "Enter a real number : -52.4\n",
            "Even\n"
          ],
          "name": "stdout"
        }
      ]
    },
    {
      "cell_type": "markdown",
      "metadata": {
        "id": "VFvWgFihxwqk"
      },
      "source": [
        "Control Flow (Loops)"
      ]
    },
    {
      "cell_type": "code",
      "metadata": {
        "colab": {
          "base_uri": "https://localhost:8080/"
        },
        "id": "jjekX3ORxUtm",
        "outputId": "c367144a-2f98-4af9-c64d-e1e674acc01b"
      },
      "source": [
        "n = int(input('Max iterations : '))\n",
        "i = 1\n",
        "\n",
        "while(i < n):\n",
        "  print(i**2)\n",
        "  print('This is iteration number : ' , i)\n",
        "  i += 1 # i = i+1\n",
        "print('loop done')"
      ],
      "execution_count": 16,
      "outputs": [
        {
          "output_type": "stream",
          "text": [
            "Max iterations : 4\n",
            "1\n",
            "This is iteration number :  1\n",
            "4\n",
            "This is iteration number :  2\n",
            "9\n",
            "This is iteration number :  3\n",
            "loop done\n"
          ],
          "name": "stdout"
        }
      ]
    },
    {
      "cell_type": "markdown",
      "metadata": {
        "id": "QP3BVj2GzrIa"
      },
      "source": [
        "Loops : Pass"
      ]
    },
    {
      "cell_type": "code",
      "metadata": {
        "colab": {
          "base_uri": "https://localhost:8080/"
        },
        "id": "NCeq17GbyVog",
        "outputId": "67dec91c-8c1c-4e14-d652-9bdaa7869ab7"
      },
      "source": [
        "n = int(input('Max iterations : '))\n",
        "i = 1\n",
        "\n",
        "while(i < n):\n",
        "  if i%2 == 0 :\n",
        "    print(i)\n",
        "  else :\n",
        "    pass\n",
        "  i += 1\n",
        "print('done')"
      ],
      "execution_count": 17,
      "outputs": [
        {
          "output_type": "stream",
          "text": [
            "Max iterations : 10\n",
            "2\n",
            "4\n",
            "6\n",
            "8\n",
            "done\n"
          ],
          "name": "stdout"
        }
      ]
    },
    {
      "cell_type": "markdown",
      "metadata": {
        "id": "SbRN9t8Sztxj"
      },
      "source": [
        "Loops : break, continue"
      ]
    },
    {
      "cell_type": "code",
      "metadata": {
        "colab": {
          "base_uri": "https://localhost:8080/"
        },
        "id": "WQAnuWt1zowb",
        "outputId": "40154402-dca9-4e10-d681-8e55d98d7782"
      },
      "source": [
        "i = 1\n",
        "while True :\n",
        "  if i % 17 == 0 :\n",
        "    print('break')\n",
        "    break\n",
        "  else :\n",
        "    i += 1\n",
        "    continue\n",
        "  print('I am inside the loop')\n",
        "print('loop done')"
      ],
      "execution_count": 18,
      "outputs": [
        {
          "output_type": "stream",
          "text": [
            "break\n",
            "loop done\n"
          ],
          "name": "stdout"
        }
      ]
    },
    {
      "cell_type": "code",
      "metadata": {
        "colab": {
          "base_uri": "https://localhost:8080/"
        },
        "id": "LMXs7-zQ0A2J",
        "outputId": "aadb45eb-54c1-43f3-abc8-e77ef9d3fde2"
      },
      "source": [
        "n = 10\n",
        "i = 1\n",
        "while True :\n",
        "  if i % 9 == 0 :\n",
        "    print('inside if')\n",
        "    break\n",
        "  else :\n",
        "    i += 1\n",
        "    print('inside else')\n",
        "print('loop done')"
      ],
      "execution_count": 21,
      "outputs": [
        {
          "output_type": "stream",
          "text": [
            "inside else\n",
            "inside else\n",
            "inside else\n",
            "inside else\n",
            "inside else\n",
            "inside else\n",
            "inside else\n",
            "inside else\n",
            "inside if\n",
            "loop done\n"
          ],
          "name": "stdout"
        }
      ]
    },
    {
      "cell_type": "code",
      "metadata": {
        "colab": {
          "base_uri": "https://localhost:8080/"
        },
        "id": "nZ7HjeoU097c",
        "outputId": "973b1d97-3fa2-4a02-e858-a4183ec4638b"
      },
      "source": [
        "n = 10\n",
        "i = 1\n",
        "while True : \n",
        "  if i % 9 != 0 :\n",
        "    print('inside if')\n",
        "    i += 1\n",
        "    continue\n",
        "  print(\"something\")\n",
        "  print(\"something else\")\n",
        "  break\n",
        "print('done')"
      ],
      "execution_count": 22,
      "outputs": [
        {
          "output_type": "stream",
          "text": [
            "inside if\n",
            "inside if\n",
            "inside if\n",
            "inside if\n",
            "inside if\n",
            "inside if\n",
            "inside if\n",
            "inside if\n",
            "something\n",
            "something else\n",
            "done\n"
          ],
          "name": "stdout"
        }
      ]
    },
    {
      "cell_type": "markdown",
      "metadata": {
        "id": "YrpvrMo21iri"
      },
      "source": [
        "for Loop"
      ]
    },
    {
      "cell_type": "code",
      "metadata": {
        "colab": {
          "base_uri": "https://localhost:8080/"
        },
        "id": "iavVwQsS1k5C",
        "outputId": "5e1f77aa-d828-4c17-be6b-17d15229367c"
      },
      "source": [
        "L = []\n",
        "\n",
        "for i in range(0,10,2) :\n",
        "  print(i)\n",
        "  L.append(i**2)\n",
        "print(L)"
      ],
      "execution_count": 29,
      "outputs": [
        {
          "output_type": "stream",
          "text": [
            "0\n",
            "2\n",
            "4\n",
            "6\n",
            "8\n",
            "[0, 4, 16, 36, 64]\n"
          ],
          "name": "stdout"
        }
      ]
    },
    {
      "cell_type": "markdown",
      "metadata": {
        "id": "I0RYGuZZ2PXy"
      },
      "source": [
        "else in for Loops"
      ]
    },
    {
      "cell_type": "code",
      "metadata": {
        "colab": {
          "base_uri": "https://localhost:8080/"
        },
        "id": "NU7sG-kl2Qpf",
        "outputId": "84fae541-9a44-48ef-c5c1-bb4072e71e57"
      },
      "source": [
        "S = {\"apple\" , 4.9 , \"cherry\"}\n",
        "\n",
        "for x in S :\n",
        "  print(x)\n",
        "else : \n",
        "  print('loop terminates with success')\n",
        "print('Out side the loop')"
      ],
      "execution_count": 32,
      "outputs": [
        {
          "output_type": "stream",
          "text": [
            "cherry\n",
            "apple\n",
            "4.9\n",
            "loop terminates with success\n",
            "Out side the loop\n"
          ],
          "name": "stdout"
        }
      ]
    }
  ]
}