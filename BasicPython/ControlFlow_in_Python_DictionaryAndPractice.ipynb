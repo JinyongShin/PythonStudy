{
  "nbformat": 4,
  "nbformat_minor": 0,
  "metadata": {
    "colab": {
      "name": "ControlFlow_in_Python_DictionaryAndPractice.ipynb",
      "provenance": [],
      "authorship_tag": "ABX9TyPhuxohAiCFtfpyTnynNsTO",
      "include_colab_link": true
    },
    "kernelspec": {
      "name": "python3",
      "display_name": "Python 3"
    },
    "language_info": {
      "name": "python"
    }
  },
  "cells": [
    {
      "cell_type": "markdown",
      "metadata": {
        "id": "view-in-github",
        "colab_type": "text"
      },
      "source": [
        "<a href=\"https://colab.research.google.com/github/JinyongShin/PythonStudy/blob/master/BasicPython/ControlFlow_in_Python_DictionaryAndPractice.ipynb\" target=\"_parent\"><img src=\"https://colab.research.google.com/assets/colab-badge.svg\" alt=\"Open In Colab\"/></a>"
      ]
    },
    {
      "cell_type": "markdown",
      "metadata": {
        "id": "KEhSpVFOPjmI"
      },
      "source": [
        "Exploring a Dictionary"
      ]
    },
    {
      "cell_type": "code",
      "metadata": {
        "colab": {
          "base_uri": "https://localhost:8080/"
        },
        "id": "TwwttSvBz1_8",
        "outputId": "25b4085f-7fe1-43c2-8bc7-b314c5065bf5"
      },
      "source": [
        "D = {\"A\":10 , \"B\":-19 , \"C\" : \"abc\"}\n",
        "\n",
        "for x in D :\n",
        "  print(x,D[x])"
      ],
      "execution_count": 1,
      "outputs": [
        {
          "output_type": "stream",
          "text": [
            "A 10\n",
            "B -19\n",
            "C abc\n"
          ],
          "name": "stdout"
        }
      ]
    },
    {
      "cell_type": "markdown",
      "metadata": {
        "id": "W01UvlCHQsH9"
      },
      "source": [
        "practice for loops"
      ]
    },
    {
      "cell_type": "code",
      "metadata": {
        "colab": {
          "base_uri": "https://localhost:8080/"
        },
        "id": "E4T0WA4uP8kr",
        "outputId": "cabf8417-9861-4180-92d8-b040702b1208"
      },
      "source": [
        "\"\"\"Given a list of numbers i.e. [1,2,4,-5,7,9,3,2], make another list that contains all the items in sorted order from min to max. i.e. your result will be another list like [-8,1,2,2,3,4,7,9].\n",
        "\"\"\"\n",
        "\n",
        "L = [1,2,4,-5,7,9,3,2]\n",
        "for j in range(len(L)):\n",
        "  m = L[j]\n",
        "  idx = j\n",
        "  c = j\n",
        "  for i in range(j,len(L)) :\n",
        "    if L[i] < m :\n",
        "      m = L[i]\n",
        "      idx = c\n",
        "    c += 1\n",
        "  tmp = L[j]\n",
        "  L[j] = m\n",
        "  L[idx] = tmp\n",
        "print(L)"
      ],
      "execution_count": 6,
      "outputs": [
        {
          "output_type": "stream",
          "text": [
            "[-5, 1, 2, 2, 3, 4, 7, 9]\n"
          ],
          "name": "stdout"
        }
      ]
    },
    {
      "cell_type": "code",
      "metadata": {
        "id": "UHz6oaNMRyjk"
      },
      "source": [
        ""
      ],
      "execution_count": null,
      "outputs": []
    }
  ]
}