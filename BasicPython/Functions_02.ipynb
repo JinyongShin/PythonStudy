{
  "nbformat": 4,
  "nbformat_minor": 0,
  "metadata": {
    "colab": {
      "name": "Functions_02.ipynb",
      "provenance": [],
      "authorship_tag": "ABX9TyMd+5PHQxrNkCEzkRBxLJtl",
      "include_colab_link": true
    },
    "kernelspec": {
      "name": "python3",
      "display_name": "Python 3"
    },
    "language_info": {
      "name": "python"
    }
  },
  "cells": [
    {
      "cell_type": "markdown",
      "metadata": {
        "id": "view-in-github",
        "colab_type": "text"
      },
      "source": [
        "<a href=\"https://colab.research.google.com/github/JinyongShin/PythonStudy/blob/master/BasicPython/Functions_02.ipynb\" target=\"_parent\"><img src=\"https://colab.research.google.com/assets/colab-badge.svg\" alt=\"Open In Colab\"/></a>"
      ]
    },
    {
      "cell_type": "markdown",
      "metadata": {
        "id": "JpUz4TYM95Og"
      },
      "source": [
        "Variable number of input arguments"
      ]
    },
    {
      "cell_type": "code",
      "metadata": {
        "id": "S1SBkTv_91Yf"
      },
      "source": [
        "def myAddUniversal(*args):\n",
        "  \"\"\" Add all the arguments!\n",
        "  \"\"\"\n",
        "  sum = 0\n",
        "  for i in range(len(args)):\n",
        "    sum += args[i]\n",
        "  return sum"
      ],
      "execution_count": 1,
      "outputs": []
    },
    {
      "cell_type": "code",
      "metadata": {
        "colab": {
          "base_uri": "https://localhost:8080/"
        },
        "id": "ZB7fe_ZR-aWh",
        "outputId": "341eabe9-1cd5-411c-eb3b-b5ace9dc8bd9"
      },
      "source": [
        "print(myAddUniversal(3,4,6,7))"
      ],
      "execution_count": 2,
      "outputs": [
        {
          "output_type": "stream",
          "text": [
            "20\n"
          ],
          "name": "stdout"
        }
      ]
    },
    {
      "cell_type": "code",
      "metadata": {
        "colab": {
          "base_uri": "https://localhost:8080/"
        },
        "id": "UJRC8lhB-tE3",
        "outputId": "2807638a-91a1-4fc6-9f71-bf510d26a377"
      },
      "source": [
        "print(myAddUniversal(2, 4, 5, 4.6, 78))"
      ],
      "execution_count": 3,
      "outputs": [
        {
          "output_type": "stream",
          "text": [
            "93.6\n"
          ],
          "name": "stdout"
        }
      ]
    },
    {
      "cell_type": "code",
      "metadata": {
        "id": "XfoQuR_-_Edu"
      },
      "source": [
        "def printAllVariableNamesAndValues(**args):\n",
        "  for x in args:\n",
        "    print(\"Variable Name is : \", x, \", And Value is : \", args[x])"
      ],
      "execution_count": 6,
      "outputs": []
    },
    {
      "cell_type": "code",
      "metadata": {
        "colab": {
          "base_uri": "https://localhost:8080/"
        },
        "id": "BV3f5QoiAXvn",
        "outputId": "94450482-078b-4c96-a9ee-1d6413e01ec5"
      },
      "source": [
        "printAllVariableNamesAndValues(a = 3, b = \"B\", c = \"CCC\", y = 6.7)"
      ],
      "execution_count": 7,
      "outputs": [
        {
          "output_type": "stream",
          "text": [
            "Variable Name is :  a , And Value is :  3\n",
            "Variable Name is :  b , And Value is :  B\n",
            "Variable Name is :  c , And Value is :  CCC\n",
            "Variable Name is :  y , And Value is :  6.7\n"
          ],
          "name": "stdout"
        }
      ]
    },
    {
      "cell_type": "markdown",
      "metadata": {
        "id": "JGqOioAoAxlW"
      },
      "source": [
        "Dfault Values"
      ]
    },
    {
      "cell_type": "code",
      "metadata": {
        "id": "ugjAppyZAhMg"
      },
      "source": [
        "def gg(s=4):\n",
        "  print(s)"
      ],
      "execution_count": 8,
      "outputs": []
    },
    {
      "cell_type": "code",
      "metadata": {
        "colab": {
          "base_uri": "https://localhost:8080/"
        },
        "id": "whQWsQuVBzA5",
        "outputId": "6815f9aa-cd08-4410-801e-f9ef6f6f4658"
      },
      "source": [
        "gg()"
      ],
      "execution_count": 9,
      "outputs": [
        {
          "output_type": "stream",
          "text": [
            "4\n"
          ],
          "name": "stdout"
        }
      ]
    },
    {
      "cell_type": "code",
      "metadata": {
        "colab": {
          "base_uri": "https://localhost:8080/"
        },
        "id": "gM5eYrNlB0pq",
        "outputId": "6da85717-d261-4fda-c473-d1ef17d2a53a"
      },
      "source": [
        "gg(56)"
      ],
      "execution_count": 10,
      "outputs": [
        {
          "output_type": "stream",
          "text": [
            "56\n"
          ],
          "name": "stdout"
        }
      ]
    },
    {
      "cell_type": "code",
      "metadata": {
        "colab": {
          "base_uri": "https://localhost:8080/"
        },
        "id": "NKatPWO6B2J6",
        "outputId": "a8ac9e38-61b3-479c-9bc2-e525ec95018b"
      },
      "source": [
        "L = [1,2,3]\n",
        "L2 = L\n",
        "L2[0] = -9\n",
        "print(L)"
      ],
      "execution_count": 11,
      "outputs": [
        {
          "output_type": "stream",
          "text": [
            "[-9, 2, 3]\n"
          ],
          "name": "stdout"
        }
      ]
    },
    {
      "cell_type": "code",
      "metadata": {
        "id": "Gqdt0_-7CBg5"
      },
      "source": [
        "def ff(L=[1,2]):\n",
        "  for i in L:\n",
        "    print(i)"
      ],
      "execution_count": 12,
      "outputs": []
    },
    {
      "cell_type": "code",
      "metadata": {
        "colab": {
          "base_uri": "https://localhost:8080/"
        },
        "id": "XZqozoYMCFyY",
        "outputId": "12f61af4-86e8-4859-b2ab-258e9d2d2b22"
      },
      "source": [
        "L2 = [12,3,4]\n",
        "ff()"
      ],
      "execution_count": 14,
      "outputs": [
        {
          "output_type": "stream",
          "text": [
            "1\n",
            "2\n"
          ],
          "name": "stdout"
        }
      ]
    },
    {
      "cell_type": "code",
      "metadata": {
        "colab": {
          "base_uri": "https://localhost:8080/"
        },
        "id": "51cW8UuKCK6I",
        "outputId": "ec4b8036-3ce1-4fc1-f4bb-a57d90e1f7c0"
      },
      "source": [
        "ff(L2)"
      ],
      "execution_count": 15,
      "outputs": [
        {
          "output_type": "stream",
          "text": [
            "12\n",
            "3\n",
            "4\n"
          ],
          "name": "stdout"
        }
      ]
    },
    {
      "cell_type": "code",
      "metadata": {
        "colab": {
          "base_uri": "https://localhost:8080/"
        },
        "id": "tFdVR1M3CL3o",
        "outputId": "74cb2d68-0fe1-415d-800a-df3130ffdf3b"
      },
      "source": [
        "ff()"
      ],
      "execution_count": 16,
      "outputs": [
        {
          "output_type": "stream",
          "text": [
            "1\n",
            "2\n"
          ],
          "name": "stdout"
        }
      ]
    }
  ]
}