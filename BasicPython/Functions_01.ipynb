{
  "nbformat": 4,
  "nbformat_minor": 0,
  "metadata": {
    "colab": {
      "name": "Functions_01.ipynb",
      "provenance": [],
      "authorship_tag": "ABX9TyPLDzmrxiqS1BoC2nvo4nQO",
      "include_colab_link": true
    },
    "kernelspec": {
      "name": "python3",
      "display_name": "Python 3"
    },
    "language_info": {
      "name": "python"
    }
  },
  "cells": [
    {
      "cell_type": "markdown",
      "metadata": {
        "id": "view-in-github",
        "colab_type": "text"
      },
      "source": [
        "<a href=\"https://colab.research.google.com/github/JinyongShin/PythonStudy/blob/master/BasicPython/Functions_01.ipynb\" target=\"_parent\"><img src=\"https://colab.research.google.com/assets/colab-badge.svg\" alt=\"Open In Colab\"/></a>"
      ]
    },
    {
      "cell_type": "code",
      "metadata": {
        "id": "ztptxuIwaroy"
      },
      "source": [
        "def printSuccess():\n",
        "  print(\"The task was successful\")\n",
        "  print(\"Moving to the next task\")\n",
        "  print(\"Send me the next task\")"
      ],
      "execution_count": 1,
      "outputs": []
    },
    {
      "cell_type": "code",
      "metadata": {
        "colab": {
          "base_uri": "https://localhost:8080/"
        },
        "id": "PTZWRX3jbGGQ",
        "outputId": "75f49e4e-a85d-4a23-e260-6b40d9c57c60"
      },
      "source": [
        "printSuccess()"
      ],
      "execution_count": 2,
      "outputs": [
        {
          "output_type": "stream",
          "text": [
            "The task was successful\n",
            "Moving to the next task\n",
            "Send me the next task\n"
          ],
          "name": "stdout"
        }
      ]
    },
    {
      "cell_type": "markdown",
      "metadata": {
        "id": "8N6Lhe6bbjX3"
      },
      "source": [
        "Doc string"
      ]
    },
    {
      "cell_type": "code",
      "metadata": {
        "id": "OaxUCSxzbUy_"
      },
      "source": [
        "def printSuccess2():\n",
        "  \"\"\"this function does nothing except printing a message\n",
        "  That message is \"hellow\"\n",
        "  \"\"\"\n",
        "  print(\"hellow\")"
      ],
      "execution_count": 3,
      "outputs": []
    },
    {
      "cell_type": "code",
      "metadata": {
        "colab": {
          "base_uri": "https://localhost:8080/"
        },
        "id": "wIqaLkK3b9r1",
        "outputId": "a97a9c2f-000a-41dd-b96d-69ca2cd6988c"
      },
      "source": [
        "printSuccess2?\n",
        "help(printSuccess2)"
      ],
      "execution_count": 5,
      "outputs": [
        {
          "output_type": "stream",
          "text": [
            "Help on function printSuccess2 in module __main__:\n",
            "\n",
            "printSuccess2()\n",
            "    this function does nothing except printing a message\n",
            "    That message is \"hellow\"\n",
            "\n"
          ],
          "name": "stdout"
        }
      ]
    },
    {
      "cell_type": "code",
      "metadata": {
        "colab": {
          "base_uri": "https://localhost:8080/"
        },
        "id": "wTyn2MICcCfe",
        "outputId": "aa5fc07a-bf12-437e-a37c-c9b82514fe55"
      },
      "source": [
        "printSuccess2()"
      ],
      "execution_count": 6,
      "outputs": [
        {
          "output_type": "stream",
          "text": [
            "hellow\n"
          ],
          "name": "stdout"
        }
      ]
    },
    {
      "cell_type": "markdown",
      "metadata": {
        "id": "F1Wtj3btcc7H"
      },
      "source": [
        "input arguments"
      ]
    },
    {
      "cell_type": "code",
      "metadata": {
        "id": "_5_BUsW_ccHL"
      },
      "source": [
        "def printMsg(msg):\n",
        "  \"\"\" The function prints the message supplied by the user\n",
        "  or prints that msg is not in the form of s tring.  \"\"\"\n",
        "\n",
        "  if isinstance(msg,str):\n",
        "    print(msg)\n",
        "  else:\n",
        "    print(\"Your input argument is not a string\")\n",
        "    print(\"Here is the type of what you have supplided\" , type(msg))"
      ],
      "execution_count": 11,
      "outputs": []
    },
    {
      "cell_type": "code",
      "metadata": {
        "colab": {
          "base_uri": "https://localhost:8080/"
        },
        "id": "iEhY9CkOdK0B",
        "outputId": "e8bc2f5f-e9b5-47d5-b889-b5edd09bfe77"
      },
      "source": [
        "printMsg?\n",
        "help(printMsg)"
      ],
      "execution_count": 9,
      "outputs": [
        {
          "output_type": "stream",
          "text": [
            "Help on function printMsg in module __main__:\n",
            "\n",
            "printMsg(msg)\n",
            "    The function prints the message supplied by the user\n",
            "    or prints that msg is not in the form of s tring.\n",
            "\n"
          ],
          "name": "stdout"
        }
      ]
    },
    {
      "cell_type": "code",
      "metadata": {
        "colab": {
          "base_uri": "https://localhost:8080/"
        },
        "id": "oA-WSxZ0dMKw",
        "outputId": "1313c606-955e-4bd2-ac3c-4759a0882d7c"
      },
      "source": [
        "printMsg(\"This is the message\")"
      ],
      "execution_count": 12,
      "outputs": [
        {
          "output_type": "stream",
          "text": [
            "This is the message\n"
          ],
          "name": "stdout"
        }
      ]
    },
    {
      "cell_type": "code",
      "metadata": {
        "colab": {
          "base_uri": "https://localhost:8080/"
        },
        "id": "W_Q5mD5adUig",
        "outputId": "f0416a5b-58b6-4728-bd6b-dba7f8f440dc"
      },
      "source": [
        "printMsg(23)"
      ],
      "execution_count": 13,
      "outputs": [
        {
          "output_type": "stream",
          "text": [
            "Your input argument is not a string\n",
            "Here is the type of what you have supplided <class 'int'>\n"
          ],
          "name": "stdout"
        }
      ]
    },
    {
      "cell_type": "code",
      "metadata": {
        "colab": {
          "base_uri": "https://localhost:8080/"
        },
        "id": "345dp_36dfcG",
        "outputId": "73d1ee6b-2343-461a-a4b9-9af9f9d11fa4"
      },
      "source": [
        "y = \"hellow there\"\n",
        "printMsg(y)"
      ],
      "execution_count": 14,
      "outputs": [
        {
          "output_type": "stream",
          "text": [
            "hellow there\n"
          ],
          "name": "stdout"
        }
      ]
    },
    {
      "cell_type": "code",
      "metadata": {
        "id": "-g2AdWXEdknu"
      },
      "source": [
        "def mypow(a,b):\n",
        "  \"\"\"this function computes power just like builtin pow function\"\"\"\n",
        "  c = a ** b\n",
        "  print(c)"
      ],
      "execution_count": 15,
      "outputs": []
    },
    {
      "cell_type": "code",
      "metadata": {
        "colab": {
          "base_uri": "https://localhost:8080/"
        },
        "id": "GQ0bao4_d8-l",
        "outputId": "a15b086c-b059-4930-8feb-85e887000240"
      },
      "source": [
        "help(mypow)"
      ],
      "execution_count": 16,
      "outputs": [
        {
          "output_type": "stream",
          "text": [
            "Help on function mypow in module __main__:\n",
            "\n",
            "mypow(a, b)\n",
            "    this function computes power just like builtin pow function\n",
            "\n"
          ],
          "name": "stdout"
        }
      ]
    },
    {
      "cell_type": "code",
      "metadata": {
        "colab": {
          "base_uri": "https://localhost:8080/"
        },
        "id": "04xRFxpqd-Sc",
        "outputId": "f7dceaac-3a0c-42da-f348-8f729400d314"
      },
      "source": [
        "mypow(3,4)"
      ],
      "execution_count": 17,
      "outputs": [
        {
          "output_type": "stream",
          "text": [
            "81\n"
          ],
          "name": "stdout"
        }
      ]
    },
    {
      "cell_type": "code",
      "metadata": {
        "id": "_-o54eh2d_i1"
      },
      "source": [
        "def checkArgs(a,b,c):\n",
        "  if isinstance(a,(int,float)) and isinstance(b,(int,float)) and isinstance(c,(int,float)) :\n",
        "    print((a+b+c)**2)\n",
        "  else : \n",
        "    print(\"Error : the input arguments are not of the expected types\")"
      ],
      "execution_count": 18,
      "outputs": []
    },
    {
      "cell_type": "code",
      "metadata": {
        "colab": {
          "base_uri": "https://localhost:8080/"
        },
        "id": "HZXVgGacegCL",
        "outputId": "b6d6aba9-7328-4d64-bb4b-95ef2961db60"
      },
      "source": [
        "checkArgs(3,4,5)"
      ],
      "execution_count": 19,
      "outputs": [
        {
          "output_type": "stream",
          "text": [
            "144\n"
          ],
          "name": "stdout"
        }
      ]
    },
    {
      "cell_type": "code",
      "metadata": {
        "colab": {
          "base_uri": "https://localhost:8080/"
        },
        "id": "lvP0DYYxehbT",
        "outputId": "dded2028-bb22-4923-c3ce-58e8d7b4dfd7"
      },
      "source": [
        "checkArgs(3,4,'g')"
      ],
      "execution_count": 21,
      "outputs": [
        {
          "output_type": "stream",
          "text": [
            "Error : the input arguments are not of the expected types\n"
          ],
          "name": "stdout"
        }
      ]
    },
    {
      "cell_type": "code",
      "metadata": {
        "colab": {
          "base_uri": "https://localhost:8080/",
          "height": 172
        },
        "id": "PIL9xWVZejGb",
        "outputId": "d100868a-bcbd-4a1c-bb82-3cadb72a8b43"
      },
      "source": [
        "checkArgs(3,4)"
      ],
      "execution_count": 22,
      "outputs": [
        {
          "output_type": "error",
          "ename": "TypeError",
          "evalue": "ignored",
          "traceback": [
            "\u001b[0;31m---------------------------------------------------------------------------\u001b[0m",
            "\u001b[0;31mTypeError\u001b[0m                                 Traceback (most recent call last)",
            "\u001b[0;32m<ipython-input-22-f6f193ef9e63>\u001b[0m in \u001b[0;36m<module>\u001b[0;34m()\u001b[0m\n\u001b[0;32m----> 1\u001b[0;31m \u001b[0mcheckArgs\u001b[0m\u001b[0;34m(\u001b[0m\u001b[0;36m3\u001b[0m\u001b[0;34m,\u001b[0m\u001b[0;36m4\u001b[0m\u001b[0;34m)\u001b[0m\u001b[0;34m\u001b[0m\u001b[0;34m\u001b[0m\u001b[0m\n\u001b[0m",
            "\u001b[0;31mTypeError\u001b[0m: checkArgs() missing 1 required positional argument: 'c'"
          ]
        }
      ]
    },
    {
      "cell_type": "code",
      "metadata": {
        "colab": {
          "base_uri": "https://localhost:8080/",
          "height": 172
        },
        "id": "EiPIYKh3enN6",
        "outputId": "0a9b8451-a6c7-4f43-e0bd-c2e65e30b34c"
      },
      "source": [
        "checkArgs(2,3,4,5)"
      ],
      "execution_count": 23,
      "outputs": [
        {
          "output_type": "error",
          "ename": "TypeError",
          "evalue": "ignored",
          "traceback": [
            "\u001b[0;31m---------------------------------------------------------------------------\u001b[0m",
            "\u001b[0;31mTypeError\u001b[0m                                 Traceback (most recent call last)",
            "\u001b[0;32m<ipython-input-23-182e860594b3>\u001b[0m in \u001b[0;36m<module>\u001b[0;34m()\u001b[0m\n\u001b[0;32m----> 1\u001b[0;31m \u001b[0mcheckArgs\u001b[0m\u001b[0;34m(\u001b[0m\u001b[0;36m2\u001b[0m\u001b[0;34m,\u001b[0m\u001b[0;36m3\u001b[0m\u001b[0;34m,\u001b[0m\u001b[0;36m4\u001b[0m\u001b[0;34m,\u001b[0m\u001b[0;36m5\u001b[0m\u001b[0;34m)\u001b[0m\u001b[0;34m\u001b[0m\u001b[0;34m\u001b[0m\u001b[0m\n\u001b[0m",
            "\u001b[0;31mTypeError\u001b[0m: checkArgs() takes 3 positional arguments but 4 were given"
          ]
        }
      ]
    },
    {
      "cell_type": "markdown",
      "metadata": {
        "id": "ethqHVvte1Mw"
      },
      "source": [
        "Order of input arguments"
      ]
    },
    {
      "cell_type": "code",
      "metadata": {
        "id": "4aB7mL-QeqtJ"
      },
      "source": [
        "def f(a , b, c):\n",
        "  print(\"A is : \" , a)\n",
        "  print(\"B is : \" , b)\n",
        "  print(\"C is : \" , c)"
      ],
      "execution_count": 24,
      "outputs": []
    },
    {
      "cell_type": "code",
      "metadata": {
        "colab": {
          "base_uri": "https://localhost:8080/"
        },
        "id": "tTNZVjfXfKa4",
        "outputId": "73fa2c47-c915-4a51-f36e-452c6fefbe88"
      },
      "source": [
        "f(2,3,\"game\")\n",
        "f(3,\"game\",2)"
      ],
      "execution_count": 26,
      "outputs": [
        {
          "output_type": "stream",
          "text": [
            "A is :  2\n",
            "B is :  3\n",
            "C is :  game\n",
            "A is :  3\n",
            "B is :  game\n",
            "C is :  2\n"
          ],
          "name": "stdout"
        }
      ]
    },
    {
      "cell_type": "code",
      "metadata": {
        "colab": {
          "base_uri": "https://localhost:8080/"
        },
        "id": "eQQnAW0GfNbv",
        "outputId": "a3c19b44-7223-4c35-b5f4-20fe9efd6c03"
      },
      "source": [
        "f(a = 2, b = 3, c = \"game\")"
      ],
      "execution_count": 27,
      "outputs": [
        {
          "output_type": "stream",
          "text": [
            "A is :  2\n",
            "B is :  3\n",
            "C is :  game\n"
          ],
          "name": "stdout"
        }
      ]
    },
    {
      "cell_type": "code",
      "metadata": {
        "colab": {
          "base_uri": "https://localhost:8080/"
        },
        "id": "w97FhWRCfZ8W",
        "outputId": "207baad2-7dd2-4cb2-e5f8-b3224a27ceca"
      },
      "source": [
        "f( c = 2, a = \"game\" , b =3)"
      ],
      "execution_count": 28,
      "outputs": [
        {
          "output_type": "stream",
          "text": [
            "A is :  game\n",
            "B is :  3\n",
            "C is :  2\n"
          ],
          "name": "stdout"
        }
      ]
    },
    {
      "cell_type": "markdown",
      "metadata": {
        "id": "lOiaDaGmfiOO"
      },
      "source": [
        "Variables inside"
      ]
    },
    {
      "cell_type": "code",
      "metadata": {
        "id": "7rZpG6g3ffnd"
      },
      "source": [
        "def Myadd(x,y):\n",
        "  c = x + y # I need value of c?"
      ],
      "execution_count": 29,
      "outputs": []
    },
    {
      "cell_type": "code",
      "metadata": {
        "colab": {
          "base_uri": "https://localhost:8080/",
          "height": 190
        },
        "id": "wRBQ34d6f93Y",
        "outputId": "28fc7ea1-0859-4f9d-ebd5-b4512faa4a05"
      },
      "source": [
        "Myadd(2,3)\n",
        "print(c)"
      ],
      "execution_count": 31,
      "outputs": [
        {
          "output_type": "error",
          "ename": "NameError",
          "evalue": "ignored",
          "traceback": [
            "\u001b[0;31m---------------------------------------------------------------------------\u001b[0m",
            "\u001b[0;31mNameError\u001b[0m                                 Traceback (most recent call last)",
            "\u001b[0;32m<ipython-input-31-e6caa3b970b4>\u001b[0m in \u001b[0;36m<module>\u001b[0;34m()\u001b[0m\n\u001b[1;32m      1\u001b[0m \u001b[0mMyadd\u001b[0m\u001b[0;34m(\u001b[0m\u001b[0;36m2\u001b[0m\u001b[0;34m,\u001b[0m\u001b[0;36m3\u001b[0m\u001b[0;34m)\u001b[0m\u001b[0;34m\u001b[0m\u001b[0;34m\u001b[0m\u001b[0m\n\u001b[0;32m----> 2\u001b[0;31m \u001b[0mprint\u001b[0m\u001b[0;34m(\u001b[0m\u001b[0mc\u001b[0m\u001b[0;34m)\u001b[0m\u001b[0;34m\u001b[0m\u001b[0;34m\u001b[0m\u001b[0m\n\u001b[0m",
            "\u001b[0;31mNameError\u001b[0m: name 'c' is not defined"
          ]
        }
      ]
    },
    {
      "cell_type": "code",
      "metadata": {
        "colab": {
          "base_uri": "https://localhost:8080/"
        },
        "id": "qyxMgIFdgHp2",
        "outputId": "132be372-075c-4618-9a21-e00dc38838db"
      },
      "source": [
        "d = Myadd(2,3)\n",
        "print(d)"
      ],
      "execution_count": 32,
      "outputs": [
        {
          "output_type": "stream",
          "text": [
            "None\n"
          ],
          "name": "stdout"
        }
      ]
    },
    {
      "cell_type": "code",
      "metadata": {
        "id": "Jr8EXBPKgWo-"
      },
      "source": [
        "variableOutSideTheFunction =3\n",
        "\n",
        "def g():\n",
        "  print(variableOutSideTheFunction)"
      ],
      "execution_count": 33,
      "outputs": []
    },
    {
      "cell_type": "code",
      "metadata": {
        "colab": {
          "base_uri": "https://localhost:8080/"
        },
        "id": "SOmxkFz7gc2O",
        "outputId": "d4c22513-1b57-487d-dbfa-faa89e2c70bf"
      },
      "source": [
        "g()"
      ],
      "execution_count": 34,
      "outputs": [
        {
          "output_type": "stream",
          "text": [
            "3\n"
          ],
          "name": "stdout"
        }
      ]
    },
    {
      "cell_type": "code",
      "metadata": {
        "id": "Xtu0diKGgd1V"
      },
      "source": [
        "def g():\n",
        "  variableOutSideTheFunction = 5\n",
        "  print(variableOutSideTheFunction)"
      ],
      "execution_count": 35,
      "outputs": []
    },
    {
      "cell_type": "code",
      "metadata": {
        "colab": {
          "base_uri": "https://localhost:8080/"
        },
        "id": "01VihKGygoWN",
        "outputId": "a4972df2-9836-455a-e93a-c4ceecc4d5bf"
      },
      "source": [
        "g()"
      ],
      "execution_count": 36,
      "outputs": [
        {
          "output_type": "stream",
          "text": [
            "5\n"
          ],
          "name": "stdout"
        }
      ]
    },
    {
      "cell_type": "code",
      "metadata": {
        "colab": {
          "base_uri": "https://localhost:8080/"
        },
        "id": "tY0400ijgpTa",
        "outputId": "5c80ed09-a8d3-4f70-d5f6-a7545cc5cd9b"
      },
      "source": [
        "print(variableOutSideTheFunction)"
      ],
      "execution_count": 37,
      "outputs": [
        {
          "output_type": "stream",
          "text": [
            "3\n"
          ],
          "name": "stdout"
        }
      ]
    },
    {
      "cell_type": "code",
      "metadata": {
        "colab": {
          "base_uri": "https://localhost:8080/"
        },
        "id": "zg8Gsjn4gw3t",
        "outputId": "de801f66-7378-4be0-99d8-3e9cdaf5a535"
      },
      "source": [
        "print(g())\n",
        "print(type(g()))"
      ],
      "execution_count": 39,
      "outputs": [
        {
          "output_type": "stream",
          "text": [
            "5\n",
            "None\n",
            "5\n",
            "<class 'NoneType'>\n"
          ],
          "name": "stdout"
        }
      ]
    },
    {
      "cell_type": "markdown",
      "metadata": {
        "id": "xD1HLS1nfxYW"
      },
      "source": [
        "return statement"
      ]
    },
    {
      "cell_type": "code",
      "metadata": {
        "id": "NEyhM1ICg8_V"
      },
      "source": [
        "def h():\n",
        "  print(\"A\")\n",
        "  a = 3\n",
        "  b = 5\n",
        "  c = a + b\n",
        "  print(\"something\")\n",
        "  return\n",
        "  print(\"B\")"
      ],
      "execution_count": 41,
      "outputs": []
    },
    {
      "cell_type": "code",
      "metadata": {
        "colab": {
          "base_uri": "https://localhost:8080/"
        },
        "id": "DytLcav5hHTl",
        "outputId": "f1899ad0-1d44-46f4-ee7f-bd14ae3274de"
      },
      "source": [
        "print(h())\n",
        "print(type(h()))"
      ],
      "execution_count": 42,
      "outputs": [
        {
          "output_type": "stream",
          "text": [
            "A\n",
            "something\n",
            "None\n",
            "A\n",
            "something\n",
            "<class 'NoneType'>\n"
          ],
          "name": "stdout"
        }
      ]
    },
    {
      "cell_type": "code",
      "metadata": {
        "id": "2iaAZjrehSMN"
      },
      "source": [
        "def h():\n",
        "  print(\"A\")\n",
        "  a = 3\n",
        "  b = 5\n",
        "  c = a + b\n",
        "  print(\"something\")\n",
        "  return c\n",
        "  print(\"B\")"
      ],
      "execution_count": 43,
      "outputs": []
    },
    {
      "cell_type": "code",
      "metadata": {
        "colab": {
          "base_uri": "https://localhost:8080/"
        },
        "id": "UW_1TJ8lhT9v",
        "outputId": "75eb582d-e86a-464a-9852-5c51a8e90113"
      },
      "source": [
        "print(h())\n",
        "print(type(h()))"
      ],
      "execution_count": 44,
      "outputs": [
        {
          "output_type": "stream",
          "text": [
            "A\n",
            "something\n",
            "8\n",
            "A\n",
            "something\n",
            "<class 'int'>\n"
          ],
          "name": "stdout"
        }
      ]
    },
    {
      "cell_type": "code",
      "metadata": {
        "id": "GDIB2qQffy18"
      },
      "source": [
        "def r():\n",
        "  a = 5\n",
        "  b = 7\n",
        "  d = \"something\"\n",
        "  return a, b, d"
      ],
      "execution_count": 45,
      "outputs": []
    },
    {
      "cell_type": "code",
      "metadata": {
        "colab": {
          "base_uri": "https://localhost:8080/"
        },
        "id": "zQ1MvgLshdoe",
        "outputId": "1534e066-81c8-46d6-f188-b4239454a286"
      },
      "source": [
        "x, y, z = r()\n",
        "print(x,y,z)"
      ],
      "execution_count": 46,
      "outputs": [
        {
          "output_type": "stream",
          "text": [
            "5 7 something\n"
          ],
          "name": "stdout"
        }
      ]
    }
  ]
}