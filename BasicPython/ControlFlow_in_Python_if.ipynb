{
  "nbformat": 4,
  "nbformat_minor": 0,
  "metadata": {
    "colab": {
      "name": "ControlFlow_in_Python_if.ipynb",
      "provenance": [],
      "authorship_tag": "ABX9TyNPExplzNAi7Gr3ii/QWsCy",
      "include_colab_link": true
    },
    "kernelspec": {
      "name": "python3",
      "display_name": "Python 3"
    },
    "language_info": {
      "name": "python"
    }
  },
  "cells": [
    {
      "cell_type": "markdown",
      "metadata": {
        "id": "view-in-github",
        "colab_type": "text"
      },
      "source": [
        "<a href=\"https://colab.research.google.com/github/JinyongShin/PythonStudy/blob/master/BasicPython/ControlFlow_in_Python_if.ipynb\" target=\"_parent\"><img src=\"https://colab.research.google.com/assets/colab-badge.svg\" alt=\"Open In Colab\"/></a>"
      ]
    },
    {
      "cell_type": "markdown",
      "metadata": {
        "id": "tvaxxiaNYUR7"
      },
      "source": [
        "Task 1 \n",
        "\n",
        "a, b 입력받아 큰 숫자만 출력"
      ]
    },
    {
      "cell_type": "markdown",
      "metadata": {
        "id": "cmMF_kFFZ3ve"
      },
      "source": [
        "if condition"
      ]
    },
    {
      "cell_type": "code",
      "metadata": {
        "id": "jcJbdhyAxl_T",
        "colab": {
          "base_uri": "https://localhost:8080/"
        },
        "outputId": "238658cf-43a8-40d9-ecc4-bed52e08f711"
      },
      "source": [
        "a = int(input())\n",
        "b = int(input())\n",
        "\n",
        "if b > a :\n",
        "  print(b)\n",
        "if a > b :\n",
        "  print(a)"
      ],
      "execution_count": 2,
      "outputs": [
        {
          "output_type": "stream",
          "text": [
            "4\n",
            "5\n",
            "5\n"
          ],
          "name": "stdout"
        }
      ]
    },
    {
      "cell_type": "markdown",
      "metadata": {
        "id": "KKCtszZLZ5f2"
      },
      "source": [
        "in - else condition"
      ]
    },
    {
      "cell_type": "code",
      "metadata": {
        "colab": {
          "base_uri": "https://localhost:8080/"
        },
        "id": "3ZOQ7k1MZY6S",
        "outputId": "a7e0403f-da10-4dba-a762-0cb9a4abf8f5"
      },
      "source": [
        "a = int(input())\n",
        "b = int(input())\n",
        "\n",
        "if a > b :\n",
        "  print(a)\n",
        "else :\n",
        "  print(b)"
      ],
      "execution_count": 3,
      "outputs": [
        {
          "output_type": "stream",
          "text": [
            "10\n",
            "20\n",
            "20\n"
          ],
          "name": "stdout"
        }
      ]
    },
    {
      "cell_type": "markdown",
      "metadata": {
        "id": "kO8IT6r_Z8Ee"
      },
      "source": [
        "if - elif - else condition"
      ]
    },
    {
      "cell_type": "code",
      "metadata": {
        "colab": {
          "base_uri": "https://localhost:8080/"
        },
        "id": "uSMPtmZnaC5V",
        "outputId": "995fba18-26ce-425b-fabf-6e94cb9a2f5f"
      },
      "source": [
        "a = float(input(\"enter first number : \"))\n",
        "b = float(input(\"enter second number : \"))\n",
        "\n",
        "if a > b :\n",
        "  print(\"a is greater than b\")\n",
        "elif a == b :\n",
        "  print(\"a and b are equal\")\n",
        "else:\n",
        "  print(\"b is greater than a\")"
      ],
      "execution_count": 4,
      "outputs": [
        {
          "output_type": "stream",
          "text": [
            "enter first number : 10\n",
            "enter second number : 10\n",
            "a and b are equal\n"
          ],
          "name": "stdout"
        }
      ]
    },
    {
      "cell_type": "markdown",
      "metadata": {
        "id": "QdIT3svXajm1"
      },
      "source": [
        "Short hand if"
      ]
    },
    {
      "cell_type": "code",
      "metadata": {
        "colab": {
          "base_uri": "https://localhost:8080/"
        },
        "id": "BjqT8xofak-2",
        "outputId": "6be7099b-a2de-4610-8120-428608d02fe9"
      },
      "source": [
        "a = 9\n",
        "b = 10\n",
        "\n",
        "print(\"A\") if a > b else print(\"=\") if a == b else print(\"B\")"
      ],
      "execution_count": 5,
      "outputs": [
        {
          "output_type": "stream",
          "text": [
            "B\n"
          ],
          "name": "stdout"
        }
      ]
    },
    {
      "cell_type": "markdown",
      "metadata": {
        "id": "YXtnh5Aaaz8G"
      },
      "source": [
        "Nested if"
      ]
    },
    {
      "cell_type": "code",
      "metadata": {
        "colab": {
          "base_uri": "https://localhost:8080/"
        },
        "id": "60mHum6zayRF",
        "outputId": "dabd2a82-edb6-476b-9688-0f36ed98acc9"
      },
      "source": [
        "x = int(input(\"Enter a number : \"))\n",
        "\n",
        "if x > 10 :\n",
        "  print(\"Your number is above ten,\")\n",
        "  if x > 20 : \n",
        "    print(\"Your number is above 20!\")\n",
        "  else : \n",
        "    print(\"but not above 20.\")"
      ],
      "execution_count": 6,
      "outputs": [
        {
          "output_type": "stream",
          "text": [
            "Enter a number : 15\n",
            "Your number is above ten,\n",
            "but not above 20.\n"
          ],
          "name": "stdout"
        }
      ]
    },
    {
      "cell_type": "markdown",
      "metadata": {
        "id": "EdrOgar_bp0H"
      },
      "source": [
        "Indentation"
      ]
    },
    {
      "cell_type": "code",
      "metadata": {
        "colab": {
          "base_uri": "https://localhost:8080/"
        },
        "id": "8y69j03Cbq3o",
        "outputId": "2bd5ed77-67c3-4096-9e35-dfc9605cc5a5"
      },
      "source": [
        "x = int(input(\"Enter a number : \"))\n",
        "\n",
        "if x > 10 :\n",
        "  print(\"Your number is above ten,\")\n",
        "  if x > 20 : \n",
        "    print(\"Your number is above 20!\")\n",
        "else : \n",
        "  print(\"Not above 10.\")"
      ],
      "execution_count": 8,
      "outputs": [
        {
          "output_type": "stream",
          "text": [
            "Enter a number : 9\n",
            "Not above 10.\n"
          ],
          "name": "stdout"
        }
      ]
    }
  ]
}