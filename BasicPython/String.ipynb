{
  "nbformat": 4,
  "nbformat_minor": 0,
  "metadata": {
    "colab": {
      "name": "String.ipynb",
      "provenance": [],
      "authorship_tag": "ABX9TyNe8ivDh2tDgXWwOKSf45jZ",
      "include_colab_link": true
    },
    "kernelspec": {
      "name": "python3",
      "display_name": "Python 3"
    },
    "language_info": {
      "name": "python"
    }
  },
  "cells": [
    {
      "cell_type": "markdown",
      "metadata": {
        "id": "view-in-github",
        "colab_type": "text"
      },
      "source": [
        "<a href=\"https://colab.research.google.com/github/JinyongShin/PythonStudy/blob/master/BasicPython/String.ipynb\" target=\"_parent\"><img src=\"https://colab.research.google.com/assets/colab-badge.svg\" alt=\"Open In Colab\"/></a>"
      ]
    },
    {
      "cell_type": "markdown",
      "metadata": {
        "id": "4BQ_8dvzYnzF"
      },
      "source": [
        "###String\n",
        "\n",
        "\"Python\" is same as 'Python'"
      ]
    },
    {
      "cell_type": "code",
      "metadata": {
        "colab": {
          "base_uri": "https://localhost:8080/"
        },
        "id": "7-zgW64QYuZU",
        "outputId": "cbb96ab4-2de8-4814-f66f-9aa81cc19351"
      },
      "source": [
        "s = \"python is the best language for data science\"\n",
        "t = 'in this course we are going to learn python'\n",
        "print(s+' '+t)"
      ],
      "execution_count": 1,
      "outputs": [
        {
          "output_type": "stream",
          "text": [
            "python is the best language for data science in this course we are going to learn python\n"
          ],
          "name": "stdout"
        }
      ]
    },
    {
      "cell_type": "code",
      "metadata": {
        "colab": {
          "base_uri": "https://localhost:8080/"
        },
        "id": "FmBuiN8nZCC6",
        "outputId": "e1ee00dc-75d6-4f1d-e90c-682f8daea549"
      },
      "source": [
        "type(s)"
      ],
      "execution_count": 2,
      "outputs": [
        {
          "output_type": "execute_result",
          "data": {
            "text/plain": [
              "str"
            ]
          },
          "metadata": {
            "tags": []
          },
          "execution_count": 2
        }
      ]
    },
    {
      "cell_type": "code",
      "metadata": {
        "colab": {
          "base_uri": "https://localhost:8080/"
        },
        "id": "QvQPH3IIZNwZ",
        "outputId": "cc0aeced-9e14-4672-8e0a-0f0c10debabb"
      },
      "source": [
        "print(s)"
      ],
      "execution_count": 3,
      "outputs": [
        {
          "output_type": "stream",
          "text": [
            "python is the best language for data science\n"
          ],
          "name": "stdout"
        }
      ]
    },
    {
      "cell_type": "code",
      "metadata": {
        "colab": {
          "base_uri": "https://localhost:8080/"
        },
        "id": "Y4eduwrGZPAY",
        "outputId": "cca5e50e-2850-4446-d0b3-c0cfb6eb90ef"
      },
      "source": [
        "print(\"hellow\",12,\"hellow2\",'who are you',5.9)"
      ],
      "execution_count": 4,
      "outputs": [
        {
          "output_type": "stream",
          "text": [
            "hellow 12 hellow2 who are you 5.9\n"
          ],
          "name": "stdout"
        }
      ]
    },
    {
      "cell_type": "code",
      "metadata": {
        "colab": {
          "base_uri": "https://localhost:8080/"
        },
        "id": "mCtiziz6ZUrw",
        "outputId": "b2fba5f9-097e-44aa-b4f7-0e74a5960cb1"
      },
      "source": [
        "v = s + t\n",
        "print(v)"
      ],
      "execution_count": 5,
      "outputs": [
        {
          "output_type": "stream",
          "text": [
            "python is the best language for data sciencein this course we are going to learn python\n"
          ],
          "name": "stdout"
        }
      ]
    },
    {
      "cell_type": "code",
      "metadata": {
        "colab": {
          "base_uri": "https://localhost:8080/"
        },
        "id": "MgjtmoA3Za7g",
        "outputId": "0b9b66cc-f247-413f-aa8b-ac4ffaa2e180"
      },
      "source": [
        "v = s + \" \" + t\n",
        "print(v)"
      ],
      "execution_count": 6,
      "outputs": [
        {
          "output_type": "stream",
          "text": [
            "python is the best language for data science in this course we are going to learn python\n"
          ],
          "name": "stdout"
        }
      ]
    },
    {
      "cell_type": "code",
      "metadata": {
        "colab": {
          "base_uri": "https://localhost:8080/"
        },
        "id": "uac7lmnbZfnw",
        "outputId": "29cde8c3-d675-47bb-9e0a-c31a4d9a37e2"
      },
      "source": [
        "price = 12\n",
        "s = \"The price of this book\"\n",
        "v = s + ' is : ' + str(price)\n",
        "print(v)\n",
        "print(s, \" is : \", price)"
      ],
      "execution_count": 11,
      "outputs": [
        {
          "output_type": "stream",
          "text": [
            "The price of this book is : 12\n",
            "The price of this book  is :  12\n"
          ],
          "name": "stdout"
        }
      ]
    },
    {
      "cell_type": "markdown",
      "metadata": {
        "id": "q9L_doNTZ8yx"
      },
      "source": [
        "String (Multi line String)"
      ]
    },
    {
      "cell_type": "code",
      "metadata": {
        "colab": {
          "base_uri": "https://localhost:8080/"
        },
        "id": "j4ZHn45KZjMH",
        "outputId": "92f87f66-068e-4981-fc9c-4504c5d26d2f"
      },
      "source": [
        "a = \"\"\"this is line 1\n",
        "this is line 2\n",
        "this is last line and this line is 3\n",
        "\"\"\"\n",
        "print(a)"
      ],
      "execution_count": 14,
      "outputs": [
        {
          "output_type": "stream",
          "text": [
            "this is line 1\n",
            "this is line 2\n",
            "this is last line and this line is 3\n",
            "\n"
          ],
          "name": "stdout"
        }
      ]
    },
    {
      "cell_type": "code",
      "metadata": {
        "colab": {
          "base_uri": "https://localhost:8080/"
        },
        "id": "s-Ue_pLdaK4T",
        "outputId": "c2e04543-c35e-4902-b66a-b2d9eed35550"
      },
      "source": [
        "print(\"\"\"The following options are available :\n",
        "                                       -a : does nothing\n",
        "                                       -b : also does nothing\n",
        "\"\"\")"
      ],
      "execution_count": 16,
      "outputs": [
        {
          "output_type": "stream",
          "text": [
            "The following options are available :\n",
            "                                       -a : does nothing\n",
            "                                       -b : also does nothing\n",
            "\n"
          ],
          "name": "stdout"
        }
      ]
    },
    {
      "cell_type": "markdown",
      "metadata": {
        "id": "hf97EN-Jar9d"
      },
      "source": [
        "###String Cont\n",
        "\n",
        "Index and Slicing\n",
        "\n",
        "Negative index"
      ]
    },
    {
      "cell_type": "code",
      "metadata": {
        "colab": {
          "base_uri": "https://localhost:8080/"
        },
        "id": "3LaPRw8HafUj",
        "outputId": "6f81f99a-7077-4257-e7a1-bd9da5e94e43"
      },
      "source": [
        "s = \"How are you and who are you\"\n",
        "print(s[5])"
      ],
      "execution_count": 24,
      "outputs": [
        {
          "output_type": "stream",
          "text": [
            "r\n"
          ],
          "name": "stdout"
        }
      ]
    },
    {
      "cell_type": "code",
      "metadata": {
        "colab": {
          "base_uri": "https://localhost:8080/"
        },
        "id": "_-o0UtXdbEsI",
        "outputId": "e45efda5-7ada-4a15-b123-8a0467ab519a"
      },
      "source": [
        "type(s[5])"
      ],
      "execution_count": 25,
      "outputs": [
        {
          "output_type": "execute_result",
          "data": {
            "text/plain": [
              "str"
            ]
          },
          "metadata": {
            "tags": []
          },
          "execution_count": 25
        }
      ]
    },
    {
      "cell_type": "code",
      "metadata": {
        "colab": {
          "base_uri": "https://localhost:8080/",
          "height": 35
        },
        "id": "14jssLFdbHFR",
        "outputId": "1534fe54-5c1b-46c7-c044-7090980405c0"
      },
      "source": [
        "s[3:8]"
      ],
      "execution_count": 26,
      "outputs": [
        {
          "output_type": "execute_result",
          "data": {
            "application/vnd.google.colaboratory.intrinsic+json": {
              "type": "string"
            },
            "text/plain": [
              "' are '"
            ]
          },
          "metadata": {
            "tags": []
          },
          "execution_count": 26
        }
      ]
    },
    {
      "cell_type": "code",
      "metadata": {
        "colab": {
          "base_uri": "https://localhost:8080/",
          "height": 35
        },
        "id": "dG3mE1FMbNrx",
        "outputId": "813d37d9-2bb4-4492-c9f3-7d16cf9816bf"
      },
      "source": [
        "s[3:9]"
      ],
      "execution_count": 27,
      "outputs": [
        {
          "output_type": "execute_result",
          "data": {
            "application/vnd.google.colaboratory.intrinsic+json": {
              "type": "string"
            },
            "text/plain": [
              "' are y'"
            ]
          },
          "metadata": {
            "tags": []
          },
          "execution_count": 27
        }
      ]
    },
    {
      "cell_type": "code",
      "metadata": {
        "colab": {
          "base_uri": "https://localhost:8080/",
          "height": 35
        },
        "id": "A_wbYnAXbPsJ",
        "outputId": "5e532bd7-afad-4851-f7ee-411f22e3fcb9"
      },
      "source": [
        "s[0:10]"
      ],
      "execution_count": 28,
      "outputs": [
        {
          "output_type": "execute_result",
          "data": {
            "application/vnd.google.colaboratory.intrinsic+json": {
              "type": "string"
            },
            "text/plain": [
              "'How are yo'"
            ]
          },
          "metadata": {
            "tags": []
          },
          "execution_count": 28
        }
      ]
    },
    {
      "cell_type": "code",
      "metadata": {
        "colab": {
          "base_uri": "https://localhost:8080/",
          "height": 35
        },
        "id": "Aj2diUb0bRvQ",
        "outputId": "dc37f8a8-59eb-4580-f792-424e0999c0d1"
      },
      "source": [
        "s[-1]"
      ],
      "execution_count": 29,
      "outputs": [
        {
          "output_type": "execute_result",
          "data": {
            "application/vnd.google.colaboratory.intrinsic+json": {
              "type": "string"
            },
            "text/plain": [
              "'u'"
            ]
          },
          "metadata": {
            "tags": []
          },
          "execution_count": 29
        }
      ]
    },
    {
      "cell_type": "code",
      "metadata": {
        "colab": {
          "base_uri": "https://localhost:8080/",
          "height": 35
        },
        "id": "4i7O1o3rbVrw",
        "outputId": "60d44677-885e-4b30-a9ed-d019dd2e1842"
      },
      "source": [
        "s[-3]"
      ],
      "execution_count": 30,
      "outputs": [
        {
          "output_type": "execute_result",
          "data": {
            "application/vnd.google.colaboratory.intrinsic+json": {
              "type": "string"
            },
            "text/plain": [
              "'y'"
            ]
          },
          "metadata": {
            "tags": []
          },
          "execution_count": 30
        }
      ]
    },
    {
      "cell_type": "code",
      "metadata": {
        "colab": {
          "base_uri": "https://localhost:8080/",
          "height": 35
        },
        "id": "i2BgqdIBbgxg",
        "outputId": "7ee37f6a-3ce1-4a05-8e62-8659567d9d55"
      },
      "source": [
        "s[-8:-3]"
      ],
      "execution_count": 31,
      "outputs": [
        {
          "output_type": "execute_result",
          "data": {
            "application/vnd.google.colaboratory.intrinsic+json": {
              "type": "string"
            },
            "text/plain": [
              "' are '"
            ]
          },
          "metadata": {
            "tags": []
          },
          "execution_count": 31
        }
      ]
    },
    {
      "cell_type": "code",
      "metadata": {
        "colab": {
          "base_uri": "https://localhost:8080/",
          "height": 35
        },
        "id": "p6gadpVSbikQ",
        "outputId": "0fde244b-a337-4982-d867-59797cae2998"
      },
      "source": [
        "s[-12:-3]"
      ],
      "execution_count": 32,
      "outputs": [
        {
          "output_type": "execute_result",
          "data": {
            "application/vnd.google.colaboratory.intrinsic+json": {
              "type": "string"
            },
            "text/plain": [
              "' who are '"
            ]
          },
          "metadata": {
            "tags": []
          },
          "execution_count": 32
        }
      ]
    },
    {
      "cell_type": "code",
      "metadata": {
        "colab": {
          "base_uri": "https://localhost:8080/",
          "height": 35
        },
        "id": "Qmdeh_WhbrPG",
        "outputId": "40d704a0-3c1b-4b2a-f933-e9c48ec6ba06"
      },
      "source": [
        "s[0:12:2]"
      ],
      "execution_count": 33,
      "outputs": [
        {
          "output_type": "execute_result",
          "data": {
            "application/vnd.google.colaboratory.intrinsic+json": {
              "type": "string"
            },
            "text/plain": [
              "'Hwaeyu'"
            ]
          },
          "metadata": {
            "tags": []
          },
          "execution_count": 33
        }
      ]
    },
    {
      "cell_type": "code",
      "metadata": {
        "colab": {
          "base_uri": "https://localhost:8080/",
          "height": 35
        },
        "id": "3OZvBPLnb_EV",
        "outputId": "d4c8e3a7-b793-4f62-9331-630b5e1bb684"
      },
      "source": [
        "s"
      ],
      "execution_count": 34,
      "outputs": [
        {
          "output_type": "execute_result",
          "data": {
            "application/vnd.google.colaboratory.intrinsic+json": {
              "type": "string"
            },
            "text/plain": [
              "'How are you and who are you'"
            ]
          },
          "metadata": {
            "tags": []
          },
          "execution_count": 34
        }
      ]
    },
    {
      "cell_type": "code",
      "metadata": {
        "colab": {
          "base_uri": "https://localhost:8080/",
          "height": 35
        },
        "id": "zeIjfTgncCnd",
        "outputId": "95f35204-eade-4d54-e071-bfb2aa2bcddf"
      },
      "source": [
        "#s[star:end:step]\n",
        "s[:12]"
      ],
      "execution_count": 35,
      "outputs": [
        {
          "output_type": "execute_result",
          "data": {
            "application/vnd.google.colaboratory.intrinsic+json": {
              "type": "string"
            },
            "text/plain": [
              "'How are you '"
            ]
          },
          "metadata": {
            "tags": []
          },
          "execution_count": 35
        }
      ]
    },
    {
      "cell_type": "code",
      "metadata": {
        "colab": {
          "base_uri": "https://localhost:8080/",
          "height": 35
        },
        "id": "kzer_x5DcKye",
        "outputId": "e9579d30-44bf-4fd1-a7dd-bed824370081"
      },
      "source": [
        "s[3:]"
      ],
      "execution_count": 36,
      "outputs": [
        {
          "output_type": "execute_result",
          "data": {
            "application/vnd.google.colaboratory.intrinsic+json": {
              "type": "string"
            },
            "text/plain": [
              "' are you and who are you'"
            ]
          },
          "metadata": {
            "tags": []
          },
          "execution_count": 36
        }
      ]
    },
    {
      "cell_type": "code",
      "metadata": {
        "colab": {
          "base_uri": "https://localhost:8080/",
          "height": 35
        },
        "id": "h47RAaMNcMqM",
        "outputId": "1f77fed2-6ce5-44ab-c0f5-d46c6ba73efb"
      },
      "source": [
        "s[::-1]"
      ],
      "execution_count": 37,
      "outputs": [
        {
          "output_type": "execute_result",
          "data": {
            "application/vnd.google.colaboratory.intrinsic+json": {
              "type": "string"
            },
            "text/plain": [
              "'uoy era ohw dna uoy era woH'"
            ]
          },
          "metadata": {
            "tags": []
          },
          "execution_count": 37
        }
      ]
    },
    {
      "cell_type": "code",
      "metadata": {
        "colab": {
          "base_uri": "https://localhost:8080/"
        },
        "id": "BMSd84brcRzT",
        "outputId": "62e5e815-9466-4b77-d0a3-818e1eba3dec"
      },
      "source": [
        "a = \"             abc  def             hgq  asdfads\"\n",
        "b = a.strip()\n",
        "print(b)"
      ],
      "execution_count": 38,
      "outputs": [
        {
          "output_type": "stream",
          "text": [
            "abc  def             hgq  asdfads\n"
          ],
          "name": "stdout"
        }
      ]
    },
    {
      "cell_type": "code",
      "metadata": {
        "colab": {
          "base_uri": "https://localhost:8080/"
        },
        "id": "AxBcQyzIcrBr",
        "outputId": "08a3fc3b-482e-4087-d712-24b7ed9603db"
      },
      "source": [
        "a = \"ABC deFg ;; sadfa QF\"\n",
        "b = a.lower()\n",
        "print(b)"
      ],
      "execution_count": 41,
      "outputs": [
        {
          "output_type": "stream",
          "text": [
            "abc defg ;; sadfa qf\n"
          ],
          "name": "stdout"
        }
      ]
    },
    {
      "cell_type": "code",
      "metadata": {
        "colab": {
          "base_uri": "https://localhost:8080/"
        },
        "id": "rKd2GKRqc7i7",
        "outputId": "2864af37-5c17-4996-84b5-d813842446cb"
      },
      "source": [
        "c = a.upper()\n",
        "print(c)"
      ],
      "execution_count": 42,
      "outputs": [
        {
          "output_type": "stream",
          "text": [
            "ABC DEFG ;; SADFA QF\n"
          ],
          "name": "stdout"
        }
      ]
    },
    {
      "cell_type": "code",
      "metadata": {
        "colab": {
          "base_uri": "https://localhost:8080/"
        },
        "id": "5JSL7Fp3c-Gx",
        "outputId": "dc38998d-fdb6-4362-dfe0-a72391b06cd2"
      },
      "source": [
        "d = a.replace(\";\",\"*\")\n",
        "print(d)"
      ],
      "execution_count": 43,
      "outputs": [
        {
          "output_type": "stream",
          "text": [
            "ABC deFg ** sadfa QF\n"
          ],
          "name": "stdout"
        }
      ]
    },
    {
      "cell_type": "code",
      "metadata": {
        "colab": {
          "base_uri": "https://localhost:8080/"
        },
        "id": "ssyeRVwydK0Y",
        "outputId": "00505867-b382-437c-a9ae-f7d637cdba66"
      },
      "source": [
        "d = a.replace(\";\",\"**&&^^%%\")\n",
        "print(d)"
      ],
      "execution_count": 45,
      "outputs": [
        {
          "output_type": "stream",
          "text": [
            "ABC deFg **&&^^%%**&&^^%% sadfa QF\n"
          ],
          "name": "stdout"
        }
      ]
    },
    {
      "cell_type": "code",
      "metadata": {
        "colab": {
          "base_uri": "https://localhost:8080/"
        },
        "id": "lGqu2gXWdQPh",
        "outputId": "5b72379d-0f2a-4b43-ebef-a51c08753e14"
      },
      "source": [
        "d = a.replace(\";;\",\"**&&^^%%\")\n",
        "print(d)"
      ],
      "execution_count": 46,
      "outputs": [
        {
          "output_type": "stream",
          "text": [
            "ABC deFg **&&^^%% sadfa QF\n"
          ],
          "name": "stdout"
        }
      ]
    },
    {
      "cell_type": "code",
      "metadata": {
        "colab": {
          "base_uri": "https://localhost:8080/"
        },
        "id": "XtoVg-LbdVX3",
        "outputId": "a17d4d14-86c8-41cb-8d55-0f8030900e61"
      },
      "source": [
        "a = \"abc;def;hgydfa;yy23\"\n",
        "L = a.split(\";\")\n",
        "print(L)"
      ],
      "execution_count": 47,
      "outputs": [
        {
          "output_type": "stream",
          "text": [
            "['abc', 'def', 'hgydfa', 'yy23']\n"
          ],
          "name": "stdout"
        }
      ]
    },
    {
      "cell_type": "code",
      "metadata": {
        "colab": {
          "base_uri": "https://localhost:8080/",
          "height": 35
        },
        "id": "tBE3hNwqdhtW",
        "outputId": "983190fd-d4b0-4835-fcff-7e813aa0d841"
      },
      "source": [
        "L[1]"
      ],
      "execution_count": 48,
      "outputs": [
        {
          "output_type": "execute_result",
          "data": {
            "application/vnd.google.colaboratory.intrinsic+json": {
              "type": "string"
            },
            "text/plain": [
              "'def'"
            ]
          },
          "metadata": {
            "tags": []
          },
          "execution_count": 48
        }
      ]
    },
    {
      "cell_type": "code",
      "metadata": {
        "colab": {
          "base_uri": "https://localhost:8080/",
          "height": 35
        },
        "id": "2gFcIYRndj9O",
        "outputId": "21816a7d-ad5a-46c0-a796-4e13d8b1c492"
      },
      "source": [
        "a.capitalize()"
      ],
      "execution_count": 51,
      "outputs": [
        {
          "output_type": "execute_result",
          "data": {
            "application/vnd.google.colaboratory.intrinsic+json": {
              "type": "string"
            },
            "text/plain": [
              "'Abc;def;hgydfa;yy23'"
            ]
          },
          "metadata": {
            "tags": []
          },
          "execution_count": 51
        }
      ]
    },
    {
      "cell_type": "code",
      "metadata": {
        "colab": {
          "base_uri": "https://localhost:8080/",
          "height": 35
        },
        "id": "tRoEyMcsdszu",
        "outputId": "481dc645-18f8-4c24-cffc-2ba9daf6d3a8"
      },
      "source": [
        "\"adbAfadGGQ\".capitalize()"
      ],
      "execution_count": 52,
      "outputs": [
        {
          "output_type": "execute_result",
          "data": {
            "application/vnd.google.colaboratory.intrinsic+json": {
              "type": "string"
            },
            "text/plain": [
              "'Adbafadggq'"
            ]
          },
          "metadata": {
            "tags": []
          },
          "execution_count": 52
        }
      ]
    },
    {
      "cell_type": "code",
      "metadata": {
        "colab": {
          "base_uri": "https://localhost:8080/"
        },
        "id": "5u8CT3mgeKyt",
        "outputId": "5b260bd6-e5c1-4db1-a64b-4f96af1f6419"
      },
      "source": [
        "print(\"at\" in \"abcdefgh\")\n",
        "print(\"at\" not in \"abcdefgh\")"
      ],
      "execution_count": 57,
      "outputs": [
        {
          "output_type": "stream",
          "text": [
            "False\n",
            "True\n"
          ],
          "name": "stdout"
        }
      ]
    },
    {
      "cell_type": "code",
      "metadata": {
        "colab": {
          "base_uri": "https://localhost:8080/"
        },
        "id": "ojF-qPtnegrb",
        "outputId": "277a14dc-f714-47f8-bec2-006ff51982a6"
      },
      "source": [
        "print(\"abc\" in \"abcdefg\")\n",
        "print(\"abc\" not in \"abcdefg\")"
      ],
      "execution_count": 58,
      "outputs": [
        {
          "output_type": "stream",
          "text": [
            "True\n",
            "False\n"
          ],
          "name": "stdout"
        }
      ]
    },
    {
      "cell_type": "code",
      "metadata": {
        "colab": {
          "base_uri": "https://localhost:8080/"
        },
        "id": "KcWR9qyDel4S",
        "outputId": "71cbd8bb-12b6-4a27-a838-f0f933b62e9b"
      },
      "source": [
        "print(\"we are learning \\\"string\\\" here\")"
      ],
      "execution_count": 59,
      "outputs": [
        {
          "output_type": "stream",
          "text": [
            "we are learning \"string\" here\n"
          ],
          "name": "stdout"
        }
      ]
    },
    {
      "cell_type": "code",
      "metadata": {
        "colab": {
          "base_uri": "https://localhost:8080/"
        },
        "id": "Uqv0RKLafJ5Y",
        "outputId": "79e45b09-cc25-4c09-d2b1-0ec29ff3c7b5"
      },
      "source": [
        "print('we are learning \"string\" here')"
      ],
      "execution_count": 60,
      "outputs": [
        {
          "output_type": "stream",
          "text": [
            "we are learning \"string\" here\n"
          ],
          "name": "stdout"
        }
      ]
    },
    {
      "cell_type": "code",
      "metadata": {
        "colab": {
          "base_uri": "https://localhost:8080/"
        },
        "id": "rFha5XFifPCv",
        "outputId": "a2ac49d8-486b-454a-c7f7-4655267dc40c"
      },
      "source": [
        "print(\"we are \\n now on another line\")"
      ],
      "execution_count": 61,
      "outputs": [
        {
          "output_type": "stream",
          "text": [
            "we are \n",
            " now on another line\n"
          ],
          "name": "stdout"
        }
      ]
    },
    {
      "cell_type": "code",
      "metadata": {
        "colab": {
          "base_uri": "https://localhost:8080/"
        },
        "id": "If3Mlso6fSPf",
        "outputId": "01f7e633-3a25-4249-9118-cdda6567b1f7"
      },
      "source": [
        "print(\"we \\t tabbed\")"
      ],
      "execution_count": 62,
      "outputs": [
        {
          "output_type": "stream",
          "text": [
            "we \t tabbed\n"
          ],
          "name": "stdout"
        }
      ]
    },
    {
      "cell_type": "code",
      "metadata": {
        "colab": {
          "base_uri": "https://localhost:8080/"
        },
        "id": "EGDpuzy6fYGf",
        "outputId": "f43d56d0-585d-4078-ad4e-c9aa3a1d5701"
      },
      "source": [
        "print(\"C:\\name\\drive\")\n",
        "print(r\"C:\\name\\drive\")"
      ],
      "execution_count": 63,
      "outputs": [
        {
          "output_type": "stream",
          "text": [
            "C:\n",
            "ame\\drive\n",
            "C:\\name\\drive\n"
          ],
          "name": "stdout"
        }
      ]
    }
  ]
}